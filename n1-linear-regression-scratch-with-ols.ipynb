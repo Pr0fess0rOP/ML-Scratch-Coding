{
 "cells": [
  {
   "cell_type": "markdown",
   "id": "776d14bf",
   "metadata": {
    "papermill": {
     "duration": 0.007482,
     "end_time": "2023-12-14T11:46:24.467585",
     "exception": false,
     "start_time": "2023-12-14T11:46:24.460103",
     "status": "completed"
    },
    "tags": []
   },
   "source": [
    "#### Notebook 1: Linear Regression using Ordinary Least Squares"
   ]
  },
  {
   "cell_type": "markdown",
   "id": "45a83980",
   "metadata": {
    "papermill": {
     "duration": 0.006707,
     "end_time": "2023-12-14T11:46:24.481733",
     "exception": false,
     "start_time": "2023-12-14T11:46:24.475026",
     "status": "completed"
    },
    "tags": []
   },
   "source": [
    "Little Introduction before we go on. Myself Pathik Viramgama (Pr0fess0r) and am doing a 75 days kaggle challenge where I will try rise up to as much high in rank as possible in a total of 300 hours (4 hours per day). So upvote! What we are going to do here is to see what is the mathematical aspect that goes behind in Linear Regression with one variable. This is the **first** notebook in this series of scratch coding. I chose the easy method of formulas so that it can be understood easily. We will progress in the difficulty as we go ahead and will surely cover all the basic ML codes from scratch to the deep learning."
   ]
  },
  {
   "cell_type": "markdown",
   "id": "d4e6fb60",
   "metadata": {
    "papermill": {
     "duration": 0.006746,
     "end_time": "2023-12-14T11:46:24.495420",
     "exception": false,
     "start_time": "2023-12-14T11:46:24.488674",
     "status": "completed"
    },
    "tags": []
   },
   "source": [
    "# Importing Dataset \n",
    "### and Legen......wait for it......dary Libraries"
   ]
  },
  {
   "cell_type": "code",
   "execution_count": 1,
   "id": "1a2c6272",
   "metadata": {
    "execution": {
     "iopub.execute_input": "2023-12-14T11:46:24.511669Z",
     "iopub.status.busy": "2023-12-14T11:46:24.511062Z",
     "iopub.status.idle": "2023-12-14T11:46:25.366492Z",
     "shell.execute_reply": "2023-12-14T11:46:25.365337Z"
    },
    "papermill": {
     "duration": 0.866641,
     "end_time": "2023-12-14T11:46:25.368932",
     "exception": false,
     "start_time": "2023-12-14T11:46:24.502291",
     "status": "completed"
    },
    "tags": []
   },
   "outputs": [],
   "source": [
    "import pandas as pd\n",
    "import numpy as np\n",
    "import matplotlib.pyplot as plt"
   ]
  },
  {
   "cell_type": "code",
   "execution_count": 2,
   "id": "8ad8d50b",
   "metadata": {
    "execution": {
     "iopub.execute_input": "2023-12-14T11:46:25.385085Z",
     "iopub.status.busy": "2023-12-14T11:46:25.384610Z",
     "iopub.status.idle": "2023-12-14T11:46:25.431099Z",
     "shell.execute_reply": "2023-12-14T11:46:25.430072Z"
    },
    "papermill": {
     "duration": 0.05765,
     "end_time": "2023-12-14T11:46:25.433812",
     "exception": false,
     "start_time": "2023-12-14T11:46:25.376162",
     "status": "completed"
    },
    "tags": []
   },
   "outputs": [
    {
     "data": {
      "text/html": [
       "<div>\n",
       "<style scoped>\n",
       "    .dataframe tbody tr th:only-of-type {\n",
       "        vertical-align: middle;\n",
       "    }\n",
       "\n",
       "    .dataframe tbody tr th {\n",
       "        vertical-align: top;\n",
       "    }\n",
       "\n",
       "    .dataframe thead th {\n",
       "        text-align: right;\n",
       "    }\n",
       "</style>\n",
       "<table border=\"1\" class=\"dataframe\">\n",
       "  <thead>\n",
       "    <tr style=\"text-align: right;\">\n",
       "      <th></th>\n",
       "      <th>Unnamed: 0</th>\n",
       "      <th>YearsExperience</th>\n",
       "      <th>Salary</th>\n",
       "    </tr>\n",
       "  </thead>\n",
       "  <tbody>\n",
       "    <tr>\n",
       "      <th>0</th>\n",
       "      <td>0</td>\n",
       "      <td>1.2</td>\n",
       "      <td>39344.0</td>\n",
       "    </tr>\n",
       "    <tr>\n",
       "      <th>1</th>\n",
       "      <td>1</td>\n",
       "      <td>1.4</td>\n",
       "      <td>46206.0</td>\n",
       "    </tr>\n",
       "    <tr>\n",
       "      <th>2</th>\n",
       "      <td>2</td>\n",
       "      <td>1.6</td>\n",
       "      <td>37732.0</td>\n",
       "    </tr>\n",
       "    <tr>\n",
       "      <th>3</th>\n",
       "      <td>3</td>\n",
       "      <td>2.1</td>\n",
       "      <td>43526.0</td>\n",
       "    </tr>\n",
       "    <tr>\n",
       "      <th>4</th>\n",
       "      <td>4</td>\n",
       "      <td>2.3</td>\n",
       "      <td>39892.0</td>\n",
       "    </tr>\n",
       "  </tbody>\n",
       "</table>\n",
       "</div>"
      ],
      "text/plain": [
       "   Unnamed: 0  YearsExperience   Salary\n",
       "0           0              1.2  39344.0\n",
       "1           1              1.4  46206.0\n",
       "2           2              1.6  37732.0\n",
       "3           3              2.1  43526.0\n",
       "4           4              2.3  39892.0"
      ]
     },
     "execution_count": 2,
     "metadata": {},
     "output_type": "execute_result"
    }
   ],
   "source": [
    "df = pd.read_csv('Data\\salary_dataset.csv')\n",
    "df.head()"
   ]
  },
  {
   "cell_type": "markdown",
   "id": "cfa4fe35",
   "metadata": {
    "papermill": {
     "duration": 0.006889,
     "end_time": "2023-12-14T11:46:25.447916",
     "exception": false,
     "start_time": "2023-12-14T11:46:25.441027",
     "status": "completed"
    },
    "tags": []
   },
   "source": [
    "# Preprocessing Stuff"
   ]
  },
  {
   "cell_type": "code",
   "execution_count": 3,
   "id": "3a9998d2",
   "metadata": {
    "execution": {
     "iopub.execute_input": "2023-12-14T11:46:25.463682Z",
     "iopub.status.busy": "2023-12-14T11:46:25.463300Z",
     "iopub.status.idle": "2023-12-14T11:46:25.477296Z",
     "shell.execute_reply": "2023-12-14T11:46:25.476307Z"
    },
    "papermill": {
     "duration": 0.02464,
     "end_time": "2023-12-14T11:46:25.479566",
     "exception": false,
     "start_time": "2023-12-14T11:46:25.454926",
     "status": "completed"
    },
    "tags": []
   },
   "outputs": [],
   "source": [
    "# Seperating features and target\n",
    "x = df.drop(['Unnamed: 0', 'Salary'], axis = 1)\n",
    "y = df.drop(['Unnamed: 0', 'YearsExperience'], axis = 1)"
   ]
  },
  {
   "cell_type": "markdown",
   "id": "c62bc9c2",
   "metadata": {
    "papermill": {
     "duration": 0.006934,
     "end_time": "2023-12-14T11:46:25.493745",
     "exception": false,
     "start_time": "2023-12-14T11:46:25.486811",
     "status": "completed"
    },
    "tags": []
   },
   "source": [
    "Yeah I know I am cheating, using a library. But hear me out please. This notebook needs you to focus on how the Linear Regression works with Gradient Descent, not how split occurs. But I have created that pre processing stuff from scratch in another notebook. You can check that out in my profile [here](https://www.kaggle.com/pathikviramgama/code?scroll=true)"
   ]
  },
  {
   "cell_type": "code",
   "execution_count": 4,
   "id": "2a27549a",
   "metadata": {
    "execution": {
     "iopub.execute_input": "2023-12-14T11:46:25.509402Z",
     "iopub.status.busy": "2023-12-14T11:46:25.509053Z",
     "iopub.status.idle": "2023-12-14T11:46:26.801245Z",
     "shell.execute_reply": "2023-12-14T11:46:26.800325Z"
    },
    "papermill": {
     "duration": 1.302898,
     "end_time": "2023-12-14T11:46:26.803661",
     "exception": false,
     "start_time": "2023-12-14T11:46:25.500763",
     "status": "completed"
    },
    "tags": []
   },
   "outputs": [],
   "source": [
    "# Doing a train test split\n",
    "from sklearn.model_selection import train_test_split\n",
    "x_train, x_test, y_train, y_test = train_test_split(x, y, test_size=0.33, random_state=42)"
   ]
  },
  {
   "cell_type": "markdown",
   "id": "5115ac4e",
   "metadata": {
    "papermill": {
     "duration": 0.00688,
     "end_time": "2023-12-14T11:46:26.817968",
     "exception": false,
     "start_time": "2023-12-14T11:46:26.811088",
     "status": "completed"
    },
    "tags": []
   },
   "source": [
    "# Simple Linear Regression with Library"
   ]
  },
  {
   "cell_type": "markdown",
   "id": "bc358d50",
   "metadata": {
    "papermill": {
     "duration": 0.006746,
     "end_time": "2023-12-14T11:46:26.831711",
     "exception": false,
     "start_time": "2023-12-14T11:46:26.824965",
     "status": "completed"
    },
    "tags": []
   },
   "source": [
    "Here we will simply train the model with our data and see what is the accuracy for a reference for our algorithm."
   ]
  },
  {
   "cell_type": "code",
   "execution_count": 5,
   "id": "80bb55e0",
   "metadata": {
    "execution": {
     "iopub.execute_input": "2023-12-14T11:46:26.847507Z",
     "iopub.status.busy": "2023-12-14T11:46:26.846938Z",
     "iopub.status.idle": "2023-12-14T11:46:26.967408Z",
     "shell.execute_reply": "2023-12-14T11:46:26.966321Z"
    },
    "papermill": {
     "duration": 0.131098,
     "end_time": "2023-12-14T11:46:26.969734",
     "exception": false,
     "start_time": "2023-12-14T11:46:26.838636",
     "status": "completed"
    },
    "tags": []
   },
   "outputs": [
    {
     "name": "stdout",
     "output_type": "stream",
     "text": [
      "Coefficient of Determination R2: 0.9553063138044949\n"
     ]
    }
   ],
   "source": [
    "# The easy version\n",
    "from sklearn.linear_model import LinearRegression\n",
    "\n",
    "LR = LinearRegression()\n",
    "LR.fit(x_train, y_train)\n",
    "\n",
    "LR_weights = LR.coef_[0][0]\n",
    "LR_b = LR.intercept_[0]\n",
    "\n",
    "LR_R2 = LR.score(x_test, y_test)\n",
    "print(f'Coefficient of Determination R2: {LR_R2}')"
   ]
  },
  {
   "cell_type": "markdown",
   "id": "98516f40",
   "metadata": {
    "papermill": {
     "duration": 0.006934,
     "end_time": "2023-12-14T11:46:26.984121",
     "exception": false,
     "start_time": "2023-12-14T11:46:26.977187",
     "status": "completed"
    },
    "tags": []
   },
   "source": [
    "Now lets plot a simple graph for our test data and plot our regression line as well"
   ]
  },
  {
   "cell_type": "code",
   "execution_count": 6,
   "id": "e076a7b7",
   "metadata": {
    "execution": {
     "iopub.execute_input": "2023-12-14T11:46:27.000376Z",
     "iopub.status.busy": "2023-12-14T11:46:26.999972Z",
     "iopub.status.idle": "2023-12-14T11:46:27.358132Z",
     "shell.execute_reply": "2023-12-14T11:46:27.357033Z"
    },
    "papermill": {
     "duration": 0.369284,
     "end_time": "2023-12-14T11:46:27.360628",
     "exception": false,
     "start_time": "2023-12-14T11:46:26.991344",
     "status": "completed"
    },
    "tags": []
   },
   "outputs": [
    {
     "data": {
      "image/png": "[encoded data removed]",
      "text/plain": [
       "<Figure size 640x480 with 1 Axes>"
      ]
     },
     "metadata": {},
     "output_type": "display_data"
    }
   ],
   "source": [
    "# Plot the line along with our training data points\n",
    "plt.scatter(x_train, y_train, s=70, c='b')\n",
    "\n",
    "plt.xlabel('YearsExperience')\n",
    "plt.ylabel('Salary')\n",
    "plt.title('Train Data with Regression Line')\n",
    "\n",
    "plt.plot(x_train, (LR_b + LR_weights*x_train), c='r')\n",
    "\n",
    "#plt.scatter(x=x_train.mean()[0], y=y_train.mean()[0], marker='*', s=400)\n",
    "\n",
    "plt.show()"
   ]
  },
  {
   "cell_type": "code",
   "execution_count": 7,
   "id": "654a7fd9",
   "metadata": {
    "execution": {
     "iopub.execute_input": "2023-12-14T11:46:27.379282Z",
     "iopub.status.busy": "2023-12-14T11:46:27.378587Z",
     "iopub.status.idle": "2023-12-14T11:46:27.620336Z",
     "shell.execute_reply": "2023-12-14T11:46:27.619217Z"
    },
    "papermill": {
     "duration": 0.253354,
     "end_time": "2023-12-14T11:46:27.622731",
     "exception": false,
     "start_time": "2023-12-14T11:46:27.369377",
     "status": "completed"
    },
    "tags": []
   },
   "outputs": [
    {
     "data": {
      "image/png": "[encoded data removed]",
      "text/plain": [
       "<Figure size 640x480 with 1 Axes>"
      ]
     },
     "metadata": {},
     "output_type": "display_data"
    }
   ],
   "source": [
    "# Plot the line along with our test data points\n",
    "plt.scatter(x_test, y_test, s=70, c='b')\n",
    "\n",
    "plt.xlabel('YearsExperience')\n",
    "plt.ylabel('Salary')\n",
    "plt.title('Test Data with Regression Line')\n",
    "\n",
    "plt.plot(x_train, (LR_b + LR_weights*x_train), c='r')\n",
    "\n",
    "plt.show()"
   ]
  },
  {
   "cell_type": "markdown",
   "id": "8979c0f3",
   "metadata": {
    "papermill": {
     "duration": 0.008373,
     "end_time": "2023-12-14T11:46:27.639537",
     "exception": false,
     "start_time": "2023-12-14T11:46:27.631164",
     "status": "completed"
    },
    "tags": []
   },
   "source": [
    "# LinearRegression from Scratch with Equation of Line"
   ]
  },
  {
   "cell_type": "markdown",
   "id": "d07fd9f1",
   "metadata": {
    "papermill": {
     "duration": 0.008271,
     "end_time": "2023-12-14T11:46:27.656421",
     "exception": false,
     "start_time": "2023-12-14T11:46:27.648150",
     "status": "completed"
    },
    "tags": []
   },
   "source": [
    "Here what we are going to do is use the shortcut i.e. use prederived formulas and just put values in it. So for linear regression what we do is generate a line that tries to connect as many dots as possible in the given training dataset. Now these formulas are what were derived from another method which is also there in next section. But all in all we try to minimize the distance of each point collectively as a whole from a certain line. \n",
    "\n",
    "Say that line equation is $y = mx + c$. We have the $x$ as the feature and $y$ as the target. The slope $m$ is called the $\\beta_{1}$ here and formula for it is as below:\n",
    "\n",
    "$\\LARGE \\beta_{1} = \\frac{\\sum_{i=1}^{n}(x_{i}-\\bar{x})(y_{i}-\\bar{y})}{\\sum_{i=1}^{n}(x_{i}-\\bar{x})^{2}}$ \n",
    "\n",
    "Yeah. A lot I know. But it is still simpler than what we will be using in the other method so sack it up. The y-intercept $c$ is called the $\\beta_{0}$ here and formula for it is pretty simple since we know all other variables:\n",
    "\n",
    "$\\LARGE \\beta_{0} = \\bar{y} - \\beta_{1}\\bar{x}$ \n",
    "\n",
    "And based on these parameters of regression $\\beta_{0}, \\beta_{1}$ we will find the equation of line and that will be the best fit in the training dataset that we used to calculate paramterers itself. Equation of line will be:\n",
    "\n",
    "$\\LARGE y = \\beta_{1}x + \\beta_{0}$ \n",
    "\n",
    "So lets calculate all those variables and create the equation of line that is most befitting the given training data."
   ]
  },
  {
   "cell_type": "code",
   "execution_count": 8,
   "id": "1908bda2",
   "metadata": {
    "execution": {
     "iopub.execute_input": "2023-12-14T11:46:27.680999Z",
     "iopub.status.busy": "2023-12-14T11:46:27.679811Z",
     "iopub.status.idle": "2023-12-14T11:46:27.699966Z",
     "shell.execute_reply": "2023-12-14T11:46:27.698725Z"
    },
    "papermill": {
     "duration": 0.037788,
     "end_time": "2023-12-14T11:46:27.702456",
     "exception": false,
     "start_time": "2023-12-14T11:46:27.664668",
     "status": "completed"
    },
    "tags": []
   },
   "outputs": [],
   "source": [
    "# Obtaining Linear Regresion Equation\n",
    "def LinearRegressionEOL(x, y):     \n",
    "    \n",
    "    n = len(x) # number of observations\n",
    "    x_mean = x.mean()[0] \n",
    "    y_mean = y.mean()[0]\n",
    "    weights_num = 0 # numerator of the big formula of B1\n",
    "    weights_den = 0 # denomenator of the big formula of B1\n",
    "    \n",
    "    # calculating numerator and denomenator of B1 seperately\n",
    "    for i in range(0, len(x)):\n",
    "        weights_num += ( (x.iloc[i, 0] - x_mean)*(y.iloc[i, 0] - y_mean) )\n",
    "        weights_den += ( (x.iloc[i, 0] - x_mean)**2 ) \n",
    "    \n",
    "    # calculating B1\n",
    "    weights = weights_num/weights_den\n",
    "    \n",
    "    # calculating B0\n",
    "    b = (y_mean - (weights*x_mean))\n",
    "    \n",
    "    # calculating equation of line\n",
    "    linearEquation = f'y = {b}x + {b}'\n",
    " \n",
    "    return (b, weights, linearEquation)"
   ]
  },
  {
   "cell_type": "markdown",
   "id": "50eb90ad",
   "metadata": {
    "papermill": {
     "duration": 0.008105,
     "end_time": "2023-12-14T11:46:27.719245",
     "exception": false,
     "start_time": "2023-12-14T11:46:27.711140",
     "status": "completed"
    },
    "tags": []
   },
   "source": [
    "Now we have one more great formula that we will be using which is the coefficient of correlation, also known as *Pearson Coefficient* $R$. A correlation coefficient is a number between -1 and 1 that tells you **the strength and direction of a relationship between variables**. In other words, it reflects how similar the measurements of two or more variables are across a dataset. When one variable changes, the other variables change in the same direction. \n",
    "\n",
    "Too much? Let me simplify even further. This number $R$ will tell us how will my target $y$ change when I change my $x$. If that didn't clicked your brain, then...here a basic example. Money you have is $x$ and item you have is $y$. Say you want something. R of $x$ and $y$ will be a negative value because if you buy something you desire, you will spend money. So you increase something in your item list but you decrease your money (Cause who the hell gives you free stuff, eh?). I cannot simplify it further than that! Change your field of study if you don't still get it!\n",
    "\n",
    "Here is the formula for it:\n",
    "\n",
    "$\\LARGE R = \\frac {\\sum_{i=1}^{n}(x_{i}-\\bar{x})(y_{i}-\\bar{y})} {\\sqrt{\\sum_{i=1}^{n}(x_{i}-\\bar{x})^{2}\\sum_{i=1}^{n}(y_{i}-\\bar{y})^{2}}}$\n",
    "\n",
    "Since there are multiple summation inside the formula, we will calculate each of those individually and then place in above formula to calculate the $R$."
   ]
  },
  {
   "cell_type": "code",
   "execution_count": 9,
   "id": "80a8ca10",
   "metadata": {
    "execution": {
     "iopub.execute_input": "2023-12-14T11:46:27.738093Z",
     "iopub.status.busy": "2023-12-14T11:46:27.737349Z",
     "iopub.status.idle": "2023-12-14T11:46:27.744154Z",
     "shell.execute_reply": "2023-12-14T11:46:27.743216Z"
    },
    "papermill": {
     "duration": 0.018885,
     "end_time": "2023-12-14T11:46:27.746407",
     "exception": false,
     "start_time": "2023-12-14T11:46:27.727522",
     "status": "completed"
    },
    "tags": []
   },
   "outputs": [],
   "source": [
    "# Code for calculating Correlation Coefficent R and Coefficent of Determination R2\n",
    "def PearsonCoefficient(x, y):\n",
    "    \n",
    "    n = len(x) # number of observations\n",
    "    sum_xy = 0\n",
    "    sum_x = 0\n",
    "    sum_y = 0\n",
    "    sum_x2 = 0\n",
    "    sum_y2 = 0\n",
    "    \n",
    "    # calculating R individual terms seperately\n",
    "    for i in range(len(x)):\n",
    "        sum_xy += x.iloc[i, 0]*y.iloc[i, 0]\n",
    "        sum_x += x.iloc[i, 0]\n",
    "        sum_y += y.iloc[i, 0]\n",
    "        sum_x2 += x.iloc[i, 0]*x.iloc[i, 0]\n",
    "        sum_y2 += y.iloc[i, 0]*y.iloc[i, 0]\n",
    "\n",
    "    # calculating R\n",
    "    R = ( (n*sum_xy)-(sum_x*sum_y) ) / ( np.sqrt( ((n*sum_x2)-(sum_x*sum_x)) * ((n*sum_y2)-(sum_y*sum_y)) ) )\n",
    "\n",
    "    return R"
   ]
  },
  {
   "cell_type": "markdown",
   "id": "0117542a",
   "metadata": {
    "papermill": {
     "duration": 0.008351,
     "end_time": "2023-12-14T11:46:27.763253",
     "exception": false,
     "start_time": "2023-12-14T11:46:27.754902",
     "status": "completed"
    },
    "tags": []
   },
   "source": [
    "# ...And Action"
   ]
  },
  {
   "cell_type": "code",
   "execution_count": 10,
   "id": "d6f16785",
   "metadata": {
    "execution": {
     "iopub.execute_input": "2023-12-14T11:46:27.781613Z",
     "iopub.status.busy": "2023-12-14T11:46:27.781253Z",
     "iopub.status.idle": "2023-12-14T11:46:27.794485Z",
     "shell.execute_reply": "2023-12-14T11:46:27.793498Z"
    },
    "papermill": {
     "duration": 0.025716,
     "end_time": "2023-12-14T11:46:27.797334",
     "exception": false,
     "start_time": "2023-12-14T11:46:27.771618",
     "status": "completed"
    },
    "tags": []
   },
   "outputs": [
    {
     "name": "stdout",
     "output_type": "stream",
     "text": [
      "Coefficient bias: 24382.73150233685\n",
      "Coefficient weights: 9426.038769074836\n",
      "Equation of Line L: y = 24382.73150233685x + 24382.73150233685\n",
      "Pearson Coefficient R: 0.9772019722749854\n"
     ]
    }
   ],
   "source": [
    "# Running the code\n",
    "\n",
    "b, weights, LinearEquation = LinearRegressionEOL(x_train, y_train)\n",
    "\n",
    "R = PearsonCoefficient(x_train, y_train)\n",
    "\n",
    "print(f'Coefficient bias: {b}')\n",
    "print(f'Coefficient weights: {weights}')\n",
    "print(f'Equation of Line L: {LinearEquation}')\n",
    "print(f'Pearson Coefficient R: {R}')\n"
   ]
  },
  {
   "cell_type": "markdown",
   "id": "a456e7d3",
   "metadata": {
    "papermill": {
     "duration": 0.008033,
     "end_time": "2023-12-14T11:46:27.813643",
     "exception": false,
     "start_time": "2023-12-14T11:46:27.805610",
     "status": "completed"
    },
    "tags": []
   },
   "source": [
    "Now to see how well our model trained is to calculate the coefficient of determination $R^2$. It is a number between 0 and 1 that measures how well a statistical model predicts an outcome. You can interpret the R² as the proportion of variation in the dependent variable that is predicted by the statistical model And this one is easy. It is literally sqaure of $R$. Here is an easy exaplanation to it. $R$ gives us both the extent our $x$ and $y$ affect each other as well as the direct or indirect proportion (direction) in which it affects. $R^2$ gives just the extent of relation. DO NOT ASSUME IT IS THE ACCURACY. REGRESSION NEVER HAS ACCURACY. IT HAS ONLY ERROR!"
   ]
  },
  {
   "cell_type": "code",
   "execution_count": 11,
   "id": "bd679f43",
   "metadata": {
    "execution": {
     "iopub.execute_input": "2023-12-14T11:46:27.831634Z",
     "iopub.status.busy": "2023-12-14T11:46:27.831268Z",
     "iopub.status.idle": "2023-12-14T11:46:27.836104Z",
     "shell.execute_reply": "2023-12-14T11:46:27.835089Z"
    },
    "papermill": {
     "duration": 0.016659,
     "end_time": "2023-12-14T11:46:27.838455",
     "exception": false,
     "start_time": "2023-12-14T11:46:27.821796",
     "status": "completed"
    },
    "tags": []
   },
   "outputs": [
    {
     "name": "stdout",
     "output_type": "stream",
     "text": [
      "Coefficient of Determination R2: 0.9549236946181213\n"
     ]
    }
   ],
   "source": [
    "print(f'Coefficient of Determination R2: {R**2}')"
   ]
  },
  {
   "cell_type": "code",
   "execution_count": 12,
   "id": "656db224",
   "metadata": {
    "execution": {
     "iopub.execute_input": "2023-12-14T11:46:27.857099Z",
     "iopub.status.busy": "2023-12-14T11:46:27.856726Z",
     "iopub.status.idle": "2023-12-14T11:46:28.122706Z",
     "shell.execute_reply": "2023-12-14T11:46:28.121941Z"
    },
    "papermill": {
     "duration": 0.279552,
     "end_time": "2023-12-14T11:46:28.126374",
     "exception": false,
     "start_time": "2023-12-14T11:46:27.846822",
     "status": "completed"
    },
    "tags": []
   },
   "outputs": [
    {
     "data": {
      "image/png": "[encoded data removed]",
      "text/plain": [
       "<Figure size 640x480 with 1 Axes>"
      ]
     },
     "metadata": {},
     "output_type": "display_data"
    }
   ],
   "source": [
    "# Plot the line along with our training data points\n",
    "plt.scatter(x_train, y_train, s=70, c='b')\n",
    "\n",
    "plt.xlabel('YearsExperience')\n",
    "plt.ylabel('Salary')\n",
    "plt.title('Train Data with Regression Line from Scratch Code')\n",
    "\n",
    "plt.plot(x_train, (b + weights*x_train), c='r')\n",
    "\n",
    "plt.scatter(x=x_train.mean()[0], y=y_train.mean()[0], marker='*', s=400)\n",
    "\n",
    "plt.show()"
   ]
  },
  {
   "cell_type": "code",
   "execution_count": 13,
   "id": "da4233f7",
   "metadata": {
    "execution": {
     "iopub.execute_input": "2023-12-14T11:46:28.150934Z",
     "iopub.status.busy": "2023-12-14T11:46:28.149169Z",
     "iopub.status.idle": "2023-12-14T11:46:28.404382Z",
     "shell.execute_reply": "2023-12-14T11:46:28.403313Z"
    },
    "papermill": {
     "duration": 0.26806,
     "end_time": "2023-12-14T11:46:28.406718",
     "exception": false,
     "start_time": "2023-12-14T11:46:28.138658",
     "status": "completed"
    },
    "tags": []
   },
   "outputs": [
    {
     "data": {
      "image/png": "[encoded data removed]",
      "text/plain": [
       "<Figure size 640x480 with 1 Axes>"
      ]
     },
     "metadata": {},
     "output_type": "display_data"
    }
   ],
   "source": [
    "# Plot the line along with our test data points\n",
    "plt.scatter(x_test, y_test, s=70, c='b')\n",
    "\n",
    "plt.xlabel('YearsExperience')\n",
    "plt.ylabel('Salary')\n",
    "plt.title('Test Data with Regression Line from Scratch Code')\n",
    "\n",
    "plt.plot(x_train, (b + weights*x_train), c='r')\n",
    "\n",
    "plt.scatter(x=x_train.mean()[0], y=y_train.mean()[0], marker='*', s=400)\n",
    "\n",
    "plt.show()"
   ]
  },
  {
   "cell_type": "markdown",
   "id": "9483e326",
   "metadata": {
    "papermill": {
     "duration": 0.009381,
     "end_time": "2023-12-14T11:46:28.426003",
     "exception": false,
     "start_time": "2023-12-14T11:46:28.416622",
     "status": "completed"
    },
    "tags": []
   },
   "source": [
    "# Prediction"
   ]
  },
  {
   "cell_type": "code",
   "execution_count": 14,
   "id": "549baedd",
   "metadata": {
    "execution": {
     "iopub.execute_input": "2023-12-14T11:46:28.447196Z",
     "iopub.status.busy": "2023-12-14T11:46:28.446768Z",
     "iopub.status.idle": "2023-12-14T11:46:28.451264Z",
     "shell.execute_reply": "2023-12-14T11:46:28.450356Z"
    },
    "papermill": {
     "duration": 0.017608,
     "end_time": "2023-12-14T11:46:28.453297",
     "exception": false,
     "start_time": "2023-12-14T11:46:28.435689",
     "status": "completed"
    },
    "tags": []
   },
   "outputs": [],
   "source": [
    "# Predicting the output\n",
    "def prediction(b, weights, x):\n",
    "    y = b + weights*x\n",
    "    return y"
   ]
  },
  {
   "cell_type": "code",
   "execution_count": 15,
   "id": "eb56f6d2",
   "metadata": {
    "execution": {
     "iopub.execute_input": "2023-12-14T11:46:28.474425Z",
     "iopub.status.busy": "2023-12-14T11:46:28.473751Z",
     "iopub.status.idle": "2023-12-14T11:46:28.484547Z",
     "shell.execute_reply": "2023-12-14T11:46:28.482902Z"
    },
    "papermill": {
     "duration": 0.024194,
     "end_time": "2023-12-14T11:46:28.487097",
     "exception": false,
     "start_time": "2023-12-14T11:46:28.462903",
     "status": "completed"
    },
    "tags": []
   },
   "outputs": [
    {
     "data": {
      "text/html": [
       "<div>\n",
       "<style scoped>\n",
       "    .dataframe tbody tr th:only-of-type {\n",
       "        vertical-align: middle;\n",
       "    }\n",
       "\n",
       "    .dataframe tbody tr th {\n",
       "        vertical-align: top;\n",
       "    }\n",
       "\n",
       "    .dataframe thead th {\n",
       "        text-align: right;\n",
       "    }\n",
       "</style>\n",
       "<table border=\"1\" class=\"dataframe\">\n",
       "  <thead>\n",
       "    <tr style=\"text-align: right;\">\n",
       "      <th></th>\n",
       "      <th>YearsExperience</th>\n",
       "    </tr>\n",
       "  </thead>\n",
       "  <tbody>\n",
       "    <tr>\n",
       "      <th>27</th>\n",
       "      <td>245938.534342</td>\n",
       "    </tr>\n",
       "    <tr>\n",
       "      <th>15</th>\n",
       "      <td>131339.696281</td>\n",
       "    </tr>\n",
       "    <tr>\n",
       "      <th>23</th>\n",
       "      <td>211802.710238</td>\n",
       "    </tr>\n",
       "    <tr>\n",
       "      <th>17</th>\n",
       "      <td>141092.788882</td>\n",
       "    </tr>\n",
       "    <tr>\n",
       "      <th>8</th>\n",
       "      <td>89889.052727</td>\n",
       "    </tr>\n",
       "    <tr>\n",
       "      <th>9</th>\n",
       "      <td>102080.418478</td>\n",
       "    </tr>\n",
       "    <tr>\n",
       "      <th>28</th>\n",
       "      <td>263006.446393</td>\n",
       "    </tr>\n",
       "    <tr>\n",
       "      <th>24</th>\n",
       "      <td>223994.075990</td>\n",
       "    </tr>\n",
       "    <tr>\n",
       "      <th>12</th>\n",
       "      <td>109395.237929</td>\n",
       "    </tr>\n",
       "    <tr>\n",
       "      <th>0</th>\n",
       "      <td>38685.316572</td>\n",
       "    </tr>\n",
       "  </tbody>\n",
       "</table>\n",
       "</div>"
      ],
      "text/plain": [
       "    YearsExperience\n",
       "27    245938.534342\n",
       "15    131339.696281\n",
       "23    211802.710238\n",
       "17    141092.788882\n",
       "8      89889.052727\n",
       "9     102080.418478\n",
       "28    263006.446393\n",
       "24    223994.075990\n",
       "12    109395.237929\n",
       "0      38685.316572"
      ]
     },
     "execution_count": 15,
     "metadata": {},
     "output_type": "execute_result"
    }
   ],
   "source": [
    "y_preds = prediction(weights, b, x_test)\n",
    "y_preds"
   ]
  },
  {
   "cell_type": "markdown",
   "id": "2539973c",
   "metadata": {
    "papermill": {
     "duration": 0.009947,
     "end_time": "2023-12-14T11:46:28.508248",
     "exception": false,
     "start_time": "2023-12-14T11:46:28.498301",
     "status": "completed"
    },
    "tags": []
   },
   "source": [
    "# Evaluation"
   ]
  },
  {
   "cell_type": "markdown",
   "id": "6618c23e",
   "metadata": {
    "papermill": {
     "duration": 0.00953,
     "end_time": "2023-12-14T11:46:28.528773",
     "exception": false,
     "start_time": "2023-12-14T11:46:28.519243",
     "status": "completed"
    },
    "tags": []
   },
   "source": [
    "This one can be complex. We now are actually calculating error. We need $R^2$ from this. So this is how we get it. Follow the trail of formulas:\n",
    "\n",
    "Error:\n",
    "\n",
    "$\\large E = \\sum_{i=0}^{n}(y_{test} - y_{pred})$\n",
    "\n",
    "Squared Error:\n",
    "\n",
    "$\\large SE = \\sum_{i=0}^{n}(E_{i}^{2})$\n",
    "\n",
    "Mean Squared Error:\n",
    "\n",
    "$\\large MSE = \\frac{SE}{n}$\n",
    "\n",
    "Root Mean Squared Error:\n",
    "\n",
    "$\\large RMSE = \\sqrt{MSE}$\n",
    "\n",
    "Relative Mean Squared Error:\n",
    "\n",
    "$\\large rMSE = \\frac{RMSE}{Var(x_{pred})}$\n",
    "\n",
    "Coefficient of Determination:\n",
    "\n",
    "$\\large R^2 = 1 - rMSE$\n",
    "\n",
    "Uh here is something you might require. Variance is basically refers to a statistical measurement of the spread between numbers in a data set. Simpler words, variance measures how far each number in the set is from the mean (average), and thus from every other number in the set. Here is it's formula:\n",
    "\n",
    "$\\large Var(x) = \\frac{\\sum_{i=0}^{n}(x_{i} - \\bar{x})^2}{n}$\n",
    "\n",
    "Yup a long trail. Below I tried to implement seperately to get you a feel of how each of these signify different thing."
   ]
  },
  {
   "cell_type": "code",
   "execution_count": 16,
   "id": "f5a71fc1",
   "metadata": {
    "_kg_hide-input": true,
    "execution": {
     "iopub.execute_input": "2023-12-14T11:46:28.550319Z",
     "iopub.status.busy": "2023-12-14T11:46:28.549241Z",
     "iopub.status.idle": "2023-12-14T11:46:28.559258Z",
     "shell.execute_reply": "2023-12-14T11:46:28.558116Z"
    },
    "papermill": {
     "duration": 0.022958,
     "end_time": "2023-12-14T11:46:28.561247",
     "exception": false,
     "start_time": "2023-12-14T11:46:28.538289",
     "status": "completed"
    },
    "tags": []
   },
   "outputs": [],
   "source": [
    "# Calculate Accuracy (Did nested Function call to make you understand what goes where)\n",
    "\n",
    "def Error(y_preds, y_test):\n",
    "    errorList = []  \n",
    "    for i in range(len(y_preds)):\n",
    "        errorList.append(y_test.iloc[i, 0] - y_preds.iloc[i, 0])\n",
    "    return errorList\n",
    "\n",
    "def SquaredError(errorList):\n",
    "    SE = 0\n",
    "    for i in range(len(errorList)):\n",
    "        SE += SE + (errorList[i]**2)\n",
    "    print(f'Squared Error: {SE}')\n",
    "    return SE\n",
    "    \n",
    "def MeanSquaredError(errorList):\n",
    "    MSE = SquaredError(errorList)/len(errorList)\n",
    "    print(f'Mean Squared Error: {MSE}')\n",
    "    return MSE\n",
    "\n",
    "def RootMeanSquaredError(errorList):\n",
    "    RMSE = np.sqrt(MeanSquaredError(errorList))\n",
    "    print(f'Root Mean Squared Error: {RMSE}')\n",
    "    return RMSE\n",
    "\n",
    "def RelativeMeanSquaredError(errorList):\n",
    "    rMSE = RootMeanSquaredError(errorList)/ y_preds.var()[0]\n",
    "    print(f'Relative Mean Squared Error: {rMSE}')\n",
    "    return rMSE\n",
    "\n",
    "def R2(errorList):\n",
    "    R2 = 1 - RelativeMeanSquaredError(errorList)\n",
    "    print(f'Coefficient of Determination: {R2}')"
   ]
  },
  {
   "cell_type": "code",
   "execution_count": 17,
   "id": "70de7408",
   "metadata": {
    "execution": {
     "iopub.execute_input": "2023-12-14T11:46:28.583678Z",
     "iopub.status.busy": "2023-12-14T11:46:28.582537Z",
     "iopub.status.idle": "2023-12-14T11:46:28.590761Z",
     "shell.execute_reply": "2023-12-14T11:46:28.589437Z"
    },
    "papermill": {
     "duration": 0.0219,
     "end_time": "2023-12-14T11:46:28.592913",
     "exception": false,
     "start_time": "2023-12-14T11:46:28.571013",
     "status": "completed"
    },
    "tags": []
   },
   "outputs": [
    {
     "name": "stdout",
     "output_type": "stream",
     "text": [
      "Squared Error: 11840560154022.438\n",
      "Mean Squared Error: 1184056015402.2437\n",
      "Root Mean Squared Error: 1088143.3799836508\n",
      "Relative Mean Squared Error: 0.00019083256571848892\n",
      "Coefficient of Determination: 0.9998091674342815\n"
     ]
    }
   ],
   "source": [
    "R2(Error(y_preds, y_test ))"
   ]
  },
  {
   "cell_type": "markdown",
   "id": "81ce7545",
   "metadata": {
    "papermill": {
     "duration": 0.009378,
     "end_time": "2023-12-14T11:46:28.679402",
     "exception": false,
     "start_time": "2023-12-14T11:46:28.670024",
     "status": "completed"
    },
    "tags": []
   },
   "source": [
    "In the next part we will go a step further in this dataset and create a Gradient Descent based Linear Regression. It will have a lot of maths. Hope this one helped you understand the concept. Do give a upvote because I need it to complete the challenge."
   ]
  }
 ],
 "metadata": {
  "kaggle": {
   "accelerator": "none",
   "dataSources": [
    {
     "datasetId": 2799910,
     "sourceId": 4832081,
     "sourceType": "datasetVersion"
    }
   ],
   "dockerImageVersionId": 30558,
   "isGpuEnabled": false,
   "isInternetEnabled": true,
   "language": "python",
   "sourceType": "notebook"
  },
  "kernelspec": {
   "display_name": "Python 3",
   "language": "python",
   "name": "python3"
  },
  "language_info": {
   "codemirror_mode": {
    "name": "ipython",
    "version": 3
   },
   "file_extension": ".py",
   "mimetype": "text/x-python",
   "name": "python",
   "nbconvert_exporter": "python",
   "pygments_lexer": "ipython3",
   "version": "3.10.12"
  },
  "papermill": {
   "default_parameters": {},
   "duration": 8.500811,
   "end_time": "2023-12-14T11:46:29.209918",
   "environment_variables": {},
   "exception": null,
   "input_path": "__notebook__.ipynb",
   "output_path": "__notebook__.ipynb",
   "parameters": {},
   "start_time": "2023-12-14T11:46:20.709107",
   "version": "2.4.0"
  }
 },
 "nbformat": 4,
 "nbformat_minor": 5
}
