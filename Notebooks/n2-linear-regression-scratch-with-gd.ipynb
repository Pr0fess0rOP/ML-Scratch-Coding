{
 "cells": [
  {
   "cell_type": "markdown",
   "id": "d3c3a430",
   "metadata": {
    "papermill": {
     "duration": 0.012931,
     "end_time": "2023-12-14T11:41:07.928359",
     "exception": false,
     "start_time": "2023-12-14T11:41:07.915428",
     "status": "completed"
    },
    "tags": []
   },
   "source": [
    "#### Notebook 2: Linear Regression with Gradient Descent "
   ]
  },
  {
   "cell_type": "markdown",
   "id": "6c7e5db1",
   "metadata": {
    "papermill": {
     "duration": 0.011803,
     "end_time": "2023-12-14T11:41:07.953106",
     "exception": false,
     "start_time": "2023-12-14T11:41:07.941303",
     "status": "completed"
    },
    "tags": []
   },
   "source": [
    "Little Introduction before we go on. Myself Pathik Viramgama (Pr0fess0r) and am doing a 75 days kaggle challenge where I will try rise up to as much high in rank as possible in a total of 300 hours (4 hours per day). So upvote! What we are going to do here is to see what is the mathematical aspect that goes behind in Linear Regression with Gradient Descent. This is the **second** notebook in the series of scratch coding. We will progress in the difficulty as we go ahead and will surely cover all the basic ML codes from scratch to the deep learning."
   ]
  },
  {
   "cell_type": "markdown",
   "id": "d8f33def",
   "metadata": {
    "papermill": {
     "duration": 0.011928,
     "end_time": "2023-12-14T11:41:07.977352",
     "exception": false,
     "start_time": "2023-12-14T11:41:07.965424",
     "status": "completed"
    },
    "tags": []
   },
   "source": [
    "# Importing Dataset \n",
    "### and Legen......wait for it......dary Libraries"
   ]
  },
  {
   "cell_type": "code",
   "execution_count": 1,
   "id": "64dffcb3",
   "metadata": {
    "execution": {
     "iopub.execute_input": "2023-12-14T11:41:08.004069Z",
     "iopub.status.busy": "2023-12-14T11:41:08.003278Z",
     "iopub.status.idle": "2023-12-14T11:41:08.842221Z",
     "shell.execute_reply": "2023-12-14T11:41:08.841186Z"
    },
    "papermill": {
     "duration": 0.855658,
     "end_time": "2023-12-14T11:41:08.845155",
     "exception": false,
     "start_time": "2023-12-14T11:41:07.989497",
     "status": "completed"
    },
    "tags": []
   },
   "outputs": [],
   "source": [
    "import pandas as pd\n",
    "import numpy as np\n",
    "import matplotlib.pyplot as plt"
   ]
  },
  {
   "cell_type": "code",
   "execution_count": 2,
   "id": "762242e3",
   "metadata": {
    "execution": {
     "iopub.execute_input": "2023-12-14T11:41:08.871882Z",
     "iopub.status.busy": "2023-12-14T11:41:08.871385Z",
     "iopub.status.idle": "2023-12-14T11:41:08.907943Z",
     "shell.execute_reply": "2023-12-14T11:41:08.906928Z"
    },
    "papermill": {
     "duration": 0.053727,
     "end_time": "2023-12-14T11:41:08.911343",
     "exception": false,
     "start_time": "2023-12-14T11:41:08.857616",
     "status": "completed"
    },
    "tags": []
   },
   "outputs": [
    {
     "data": {
      "text/html": [
       "<div>\n",
       "<style scoped>\n",
       "    .dataframe tbody tr th:only-of-type {\n",
       "        vertical-align: middle;\n",
       "    }\n",
       "\n",
       "    .dataframe tbody tr th {\n",
       "        vertical-align: top;\n",
       "    }\n",
       "\n",
       "    .dataframe thead th {\n",
       "        text-align: right;\n",
       "    }\n",
       "</style>\n",
       "<table border=\"1\" class=\"dataframe\">\n",
       "  <thead>\n",
       "    <tr style=\"text-align: right;\">\n",
       "      <th></th>\n",
       "      <th>Unnamed: 0</th>\n",
       "      <th>YearsExperience</th>\n",
       "      <th>Salary</th>\n",
       "    </tr>\n",
       "  </thead>\n",
       "  <tbody>\n",
       "    <tr>\n",
       "      <th>0</th>\n",
       "      <td>0</td>\n",
       "      <td>1.2</td>\n",
       "      <td>39344.0</td>\n",
       "    </tr>\n",
       "    <tr>\n",
       "      <th>1</th>\n",
       "      <td>1</td>\n",
       "      <td>1.4</td>\n",
       "      <td>46206.0</td>\n",
       "    </tr>\n",
       "    <tr>\n",
       "      <th>2</th>\n",
       "      <td>2</td>\n",
       "      <td>1.6</td>\n",
       "      <td>37732.0</td>\n",
       "    </tr>\n",
       "    <tr>\n",
       "      <th>3</th>\n",
       "      <td>3</td>\n",
       "      <td>2.1</td>\n",
       "      <td>43526.0</td>\n",
       "    </tr>\n",
       "    <tr>\n",
       "      <th>4</th>\n",
       "      <td>4</td>\n",
       "      <td>2.3</td>\n",
       "      <td>39892.0</td>\n",
       "    </tr>\n",
       "  </tbody>\n",
       "</table>\n",
       "</div>"
      ],
      "text/plain": [
       "   Unnamed: 0  YearsExperience   Salary\n",
       "0           0              1.2  39344.0\n",
       "1           1              1.4  46206.0\n",
       "2           2              1.6  37732.0\n",
       "3           3              2.1  43526.0\n",
       "4           4              2.3  39892.0"
      ]
     },
     "execution_count": 2,
     "metadata": {},
     "output_type": "execute_result"
    }
   ],
   "source": [
    "df = pd.read_csv('..\\Data\\salary_dataset.csv')\n",
    "df.head()"
   ]
  },
  {
   "cell_type": "markdown",
   "id": "2c7504f1",
   "metadata": {
    "papermill": {
     "duration": 0.01198,
     "end_time": "2023-12-14T11:41:08.935750",
     "exception": false,
     "start_time": "2023-12-14T11:41:08.923770",
     "status": "completed"
    },
    "tags": []
   },
   "source": [
    "# Preprocessing Stuff"
   ]
  },
  {
   "cell_type": "code",
   "execution_count": 3,
   "id": "e0c72c60",
   "metadata": {
    "execution": {
     "iopub.execute_input": "2023-12-14T11:41:08.962391Z",
     "iopub.status.busy": "2023-12-14T11:41:08.961975Z",
     "iopub.status.idle": "2023-12-14T11:41:08.975152Z",
     "shell.execute_reply": "2023-12-14T11:41:08.974021Z"
    },
    "papermill": {
     "duration": 0.02923,
     "end_time": "2023-12-14T11:41:08.977381",
     "exception": false,
     "start_time": "2023-12-14T11:41:08.948151",
     "status": "completed"
    },
    "tags": []
   },
   "outputs": [],
   "source": [
    "# Seperating features and target\n",
    "x = df.drop(['Unnamed: 0', 'Salary'], axis = 1)\n",
    "y = df.drop(['Unnamed: 0', 'YearsExperience'], axis = 1)"
   ]
  },
  {
   "cell_type": "code",
   "execution_count": 4,
   "id": "391d1854",
   "metadata": {
    "execution": {
     "iopub.execute_input": "2023-12-14T11:41:09.004234Z",
     "iopub.status.busy": "2023-12-14T11:41:09.003836Z",
     "iopub.status.idle": "2023-12-14T11:41:09.009648Z",
     "shell.execute_reply": "2023-12-14T11:41:09.008534Z"
    },
    "papermill": {
     "duration": 0.021956,
     "end_time": "2023-12-14T11:41:09.011997",
     "exception": false,
     "start_time": "2023-12-14T11:41:08.990041",
     "status": "completed"
    },
    "tags": []
   },
   "outputs": [],
   "source": [
    "# converting the dataframe to numpy array so that all our data becomes in one format\n",
    "# I chose numpy array because it is faster\n",
    "x = pd.DataFrame(x).to_numpy()\n",
    "y = pd.DataFrame(y).to_numpy()"
   ]
  },
  {
   "cell_type": "markdown",
   "id": "a2a92bdf",
   "metadata": {
    "papermill": {
     "duration": 0.012023,
     "end_time": "2023-12-14T11:41:09.036915",
     "exception": false,
     "start_time": "2023-12-14T11:41:09.024892",
     "status": "completed"
    },
    "tags": []
   },
   "source": [
    "Yeah I know I am cheating, using a library. But hear me out please. This notebook needs you to focus on how the Linear Regression works with Gradient Descent, not how split occurs. But I have created that pre processing stuff from scratch in another notebook. You can check that out in my profile [here](https://www.kaggle.com/pathikviramgama/code?scroll=true)"
   ]
  },
  {
   "cell_type": "code",
   "execution_count": 5,
   "id": "d3ad12f6",
   "metadata": {
    "execution": {
     "iopub.execute_input": "2023-12-14T11:41:09.063526Z",
     "iopub.status.busy": "2023-12-14T11:41:09.062791Z",
     "iopub.status.idle": "2023-12-14T11:41:10.387161Z",
     "shell.execute_reply": "2023-12-14T11:41:10.384786Z"
    },
    "papermill": {
     "duration": 1.341676,
     "end_time": "2023-12-14T11:41:10.390923",
     "exception": false,
     "start_time": "2023-12-14T11:41:09.049247",
     "status": "completed"
    },
    "tags": []
   },
   "outputs": [],
   "source": [
    "# Doing a train test split\n",
    "from sklearn.model_selection import train_test_split\n",
    "x_train, x_test, y_train, y_test = train_test_split(x, y, test_size=0.33, random_state=42)"
   ]
  },
  {
   "cell_type": "markdown",
   "id": "be6baf2a",
   "metadata": {
    "papermill": {
     "duration": 0.017613,
     "end_time": "2023-12-14T11:41:10.435296",
     "exception": false,
     "start_time": "2023-12-14T11:41:10.417683",
     "status": "completed"
    },
    "tags": []
   },
   "source": [
    "# Simple Linear Regression with Library"
   ]
  },
  {
   "cell_type": "markdown",
   "id": "b87e29e1",
   "metadata": {
    "papermill": {
     "duration": 0.020463,
     "end_time": "2023-12-14T11:41:10.475537",
     "exception": false,
     "start_time": "2023-12-14T11:41:10.455074",
     "status": "completed"
    },
    "tags": []
   },
   "source": [
    "Here we will simply train the model with our data and see what is the accuracy for a reference for our algorithm."
   ]
  },
  {
   "cell_type": "code",
   "execution_count": 6,
   "id": "6fcc7e0b",
   "metadata": {
    "execution": {
     "iopub.execute_input": "2023-12-14T11:41:10.510208Z",
     "iopub.status.busy": "2023-12-14T11:41:10.508717Z",
     "iopub.status.idle": "2023-12-14T11:41:10.631881Z",
     "shell.execute_reply": "2023-12-14T11:41:10.630248Z"
    },
    "papermill": {
     "duration": 0.142046,
     "end_time": "2023-12-14T11:41:10.636072",
     "exception": false,
     "start_time": "2023-12-14T11:41:10.494026",
     "status": "completed"
    },
    "tags": []
   },
   "outputs": [
    {
     "name": "stdout",
     "output_type": "stream",
     "text": [
      "Coefficient of Determination R2: 0.9553063138044949\n"
     ]
    }
   ],
   "source": [
    "# The easy version\n",
    "from sklearn.linear_model import LinearRegression\n",
    "\n",
    "LR = LinearRegression()\n",
    "LR.fit(x_train, y_train)\n",
    "\n",
    "LR_weights = LR.coef_[0][0]\n",
    "LR_b = LR.intercept_[0]\n",
    "\n",
    "LR_R2 = LR.score(x_test, y_test)\n",
    "print(f'Coefficient of Determination R2: {LR_R2}')"
   ]
  },
  {
   "cell_type": "markdown",
   "id": "a8ed7a11",
   "metadata": {
    "papermill": {
     "duration": 0.016938,
     "end_time": "2023-12-14T11:41:10.666131",
     "exception": false,
     "start_time": "2023-12-14T11:41:10.649193",
     "status": "completed"
    },
    "tags": []
   },
   "source": [
    "Now lets plot a simple graph for our test data and plot our regression line as well"
   ]
  },
  {
   "cell_type": "code",
   "execution_count": 7,
   "id": "c31b1582",
   "metadata": {
    "execution": {
     "iopub.execute_input": "2023-12-14T11:41:10.699350Z",
     "iopub.status.busy": "2023-12-14T11:41:10.698366Z",
     "iopub.status.idle": "2023-12-14T11:41:11.110204Z",
     "shell.execute_reply": "2023-12-14T11:41:11.109070Z"
    },
    "papermill": {
     "duration": 0.429155,
     "end_time": "2023-12-14T11:41:11.112676",
     "exception": false,
     "start_time": "2023-12-14T11:41:10.683521",
     "status": "completed"
    },
    "tags": []
   },
   "outputs": [
    {
     "data": {
      "image/png": "[encoded data removed]",
      "text/plain": [
       "<Figure size 640x480 with 1 Axes>"
      ]
     },
     "metadata": {},
     "output_type": "display_data"
    }
   ],
   "source": [
    "# Plot the line along with our training data points\n",
    "plt.scatter(x_train, y_train, s=70, c='b')\n",
    "\n",
    "plt.xlabel('YearsExperience')\n",
    "plt.ylabel('Salary')\n",
    "plt.title('Train Data with Regression Line')\n",
    "\n",
    "plt.plot(x_train, (LR_b + LR_weights*x_train), c='r')\n",
    "\n",
    "plt.show()"
   ]
  },
  {
   "cell_type": "code",
   "execution_count": 8,
   "id": "db3520d0",
   "metadata": {
    "execution": {
     "iopub.execute_input": "2023-12-14T11:41:11.141595Z",
     "iopub.status.busy": "2023-12-14T11:41:11.140927Z",
     "iopub.status.idle": "2023-12-14T11:41:11.416187Z",
     "shell.execute_reply": "2023-12-14T11:41:11.415078Z"
    },
    "papermill": {
     "duration": 0.292977,
     "end_time": "2023-12-14T11:41:11.418760",
     "exception": false,
     "start_time": "2023-12-14T11:41:11.125783",
     "status": "completed"
    },
    "tags": []
   },
   "outputs": [
    {
     "data": {
      "image/png": "[encoded data removed]",
      "text/plain": [
       "<Figure size 640x480 with 1 Axes>"
      ]
     },
     "metadata": {},
     "output_type": "display_data"
    }
   ],
   "source": [
    "# Plot the line along with our test data points\n",
    "plt.scatter(x_test, y_test, s=70, c='b')\n",
    "\n",
    "plt.xlabel('YearsExperience')\n",
    "plt.ylabel('Salary')\n",
    "plt.title('Test Data with Regression Line')\n",
    "\n",
    "plt.plot(x_train, (LR_b + LR_weights*x_train), c='r')\n",
    "\n",
    "plt.show()"
   ]
  },
  {
   "cell_type": "markdown",
   "id": "5418a3e9",
   "metadata": {
    "papermill": {
     "duration": 0.013199,
     "end_time": "2023-12-14T11:41:11.445674",
     "exception": false,
     "start_time": "2023-12-14T11:41:11.432475",
     "status": "completed"
    },
    "tags": []
   },
   "source": [
    "# LinearRegression from Scratch with Gradient Descent"
   ]
  },
  {
   "cell_type": "markdown",
   "id": "0978a2aa",
   "metadata": {
    "papermill": {
     "duration": 0.013203,
     "end_time": "2023-12-14T11:41:11.472434",
     "exception": false,
     "start_time": "2023-12-14T11:41:11.459231",
     "status": "completed"
    },
    "tags": []
   },
   "source": [
    "Now forget Machine Learning. Imagine you have a machine that takes paper and makes them into money. This machine has two things we need to maintain. The process takes two steps. Printing the image of the currency on the paper through ink. And second is cutting the full paper into appropriate size of a note with sharp scissors. All we need to do is maintain the ink in the machine and keep the scissors sharp. Either one of these malfunctions, our money will not be usable.\n",
    "\n",
    "Guess what? That was machine learning. The Higher ups calls the machine a Hypothesis Function $\\large h_{(\\overrightarrow{W}, b)}(x)$. The paper intput is generally called features $\\large x$. The money output is generally called target $\\large y$. The maintainance aspects are called weights. Specifically in our case, ink is $\\large b$ and scissor is $\\large \\overrightarrow{W}$"
   ]
  },
  {
   "cell_type": "markdown",
   "id": "ad545fdf",
   "metadata": {
    "papermill": {
     "duration": 0.013144,
     "end_time": "2023-12-14T11:41:11.499758",
     "exception": false,
     "start_time": "2023-12-14T11:41:11.486614",
     "status": "completed"
    },
    "tags": []
   },
   "source": [
    "Before you start making money, you will need paper, ink and scissors, right?. You will also need the machine itself too. So we need to initialize everything in code too."
   ]
  },
  {
   "cell_type": "markdown",
   "id": "0b6fbce7",
   "metadata": {
    "papermill": {
     "duration": 0.013461,
     "end_time": "2023-12-14T11:41:11.598630",
     "exception": false,
     "start_time": "2023-12-14T11:41:11.585169",
     "status": "completed"
    },
    "tags": []
   },
   "source": [
    "So lets gather the materials, scissor and ink, first. We will make the weights first. Weights will always be of same size as your dataset. I have created two arrays, **weights** and **bias**, instead of one so that we can understand better what is happening. They should randmoly initialized with floats instead of all zeros because random initialization gets us faster answer than all zeroes, at least thats what higher ups say. There is a whole proof by example thingy that I can do here, but I feel lazy. So we are going with all zeroes. My Notebook, my rules B-word!"
   ]
  },
  {
   "cell_type": "code",
   "execution_count": 9,
   "id": "fd1f6383",
   "metadata": {
    "execution": {
     "iopub.execute_input": "2023-12-14T11:41:11.627826Z",
     "iopub.status.busy": "2023-12-14T11:41:11.627383Z",
     "iopub.status.idle": "2023-12-14T11:41:11.632405Z",
     "shell.execute_reply": "2023-12-14T11:41:11.631654Z"
    },
    "papermill": {
     "duration": 0.022195,
     "end_time": "2023-12-14T11:41:11.634469",
     "exception": false,
     "start_time": "2023-12-14T11:41:11.612274",
     "status": "completed"
    },
    "tags": []
   },
   "outputs": [],
   "source": [
    "# initializing parameters/scissors and ink\n",
    "def initParameters(x):\n",
    "    weights = np.zeros((len(x[0]), 1))\n",
    "    bias = 0\n",
    "    return weights, bias"
   ]
  },
  {
   "cell_type": "markdown",
   "id": "3050913d",
   "metadata": {
    "papermill": {
     "duration": 0.012722,
     "end_time": "2023-12-14T11:41:11.660699",
     "exception": false,
     "start_time": "2023-12-14T11:41:11.647977",
     "status": "completed"
    },
    "tags": []
   },
   "source": [
    "Now we get the machine. The hypothesis function in a way is literally a prediction through equation of line. Here is the formula for it in our case of a single feature:\n",
    "\n",
    "$\\large h_{(\\overrightarrow{W},b)}(x) = {\\overrightarrow{W}} \\cdot x + b$\n",
    "\n",
    "The weights vector becomes a single value since it is assigned for every feature in **x**"
   ]
  },
  {
   "cell_type": "code",
   "execution_count": 10,
   "id": "c70d7f4c",
   "metadata": {
    "execution": {
     "iopub.execute_input": "2023-12-14T11:41:11.690299Z",
     "iopub.status.busy": "2023-12-14T11:41:11.689555Z",
     "iopub.status.idle": "2023-12-14T11:41:11.695106Z",
     "shell.execute_reply": "2023-12-14T11:41:11.694053Z"
    },
    "papermill": {
     "duration": 0.022533,
     "end_time": "2023-12-14T11:41:11.697254",
     "exception": false,
     "start_time": "2023-12-14T11:41:11.674721",
     "status": "completed"
    },
    "tags": []
   },
   "outputs": [],
   "source": [
    "# Hypothesis Function used for getting prediction/ Machine\n",
    "def hypothesisFunction(x, weights, bias):\n",
    "    h = np.dot(x, weights) + bias\n",
    "    return h\n",
    "\n",
    "# we will not call it seperately out here. We will call it inside the Cost function itself"
   ]
  },
  {
   "cell_type": "markdown",
   "id": "9f9f13ee",
   "metadata": {
    "papermill": {
     "duration": 0.014377,
     "end_time": "2023-12-14T11:41:11.725420",
     "exception": false,
     "start_time": "2023-12-14T11:41:11.711043",
     "status": "completed"
    },
    "tags": []
   },
   "source": [
    "Now this is also the part of machine. It is analogus to the amount of scissors and ink the machine has at a point of time. It, in useless higher up terms, is called Cost Function. It is, in layman terms, an error and unlike other terms this is a single value instead of an array. Here is the formula for it.\n",
    "\n",
    "$\\large J(W,b) = \\frac{1}{m}\\sum_{i=1}^{m} (h_{(W,b)}(x_i)) - (y_i))^2$"
   ]
  },
  {
   "cell_type": "code",
   "execution_count": 11,
   "id": "19b7577e",
   "metadata": {
    "execution": {
     "iopub.execute_input": "2023-12-14T11:41:11.755395Z",
     "iopub.status.busy": "2023-12-14T11:41:11.754925Z",
     "iopub.status.idle": "2023-12-14T11:41:11.761223Z",
     "shell.execute_reply": "2023-12-14T11:41:11.759971Z"
    },
    "papermill": {
     "duration": 0.024463,
     "end_time": "2023-12-14T11:41:11.763844",
     "exception": false,
     "start_time": "2023-12-14T11:41:11.739381",
     "status": "completed"
    },
    "tags": []
   },
   "outputs": [],
   "source": [
    "# Function to calculate Cost/total error during any point\n",
    "def costFunction(x, y, weights, bias):\n",
    "    m = len(y) # number of examples or rows in our dataset\n",
    "    h = hypothesisFunction(x, weights, bias)# calculating the sigmoid function\n",
    "    cost = ( np.sum( (h - y)**2 ) )/m\n",
    "    return cost"
   ]
  },
  {
   "cell_type": "markdown",
   "id": "ed601288",
   "metadata": {
    "papermill": {
     "duration": 0.013702,
     "end_time": "2023-12-14T11:41:11.791584",
     "exception": false,
     "start_time": "2023-12-14T11:41:11.777882",
     "status": "completed"
    },
    "tags": []
   },
   "source": [
    "Now we have all the ingridents required to make money from thin cellulose sheets. So how are we going to do it? Well first we somehow need to set amount of ink and size of the cuts to the perfect amount. Change in ink or the cutting can disregard the currency and land you in prision, unless you are Sunny or Firoz (Farzi Reference). Luckily, machine we bought was of top quality and sets the amount to perfect by itself using a few procedures. We just need to give the machine a few trial runs so that it can set the perfect amount. Those trial runs is what as a whole called machine learning. Specifically in our case it is called gradient decesnt. The amount of trials machine does is called epochs. Got it? Cause now its get extremely difficult for a layman as we actually see what happens in mathematical terms."
   ]
  },
  {
   "cell_type": "markdown",
   "id": "8b535b2c",
   "metadata": {
    "papermill": {
     "duration": 0.013271,
     "end_time": "2023-12-14T11:41:11.818411",
     "exception": false,
     "start_time": "2023-12-14T11:41:11.805140",
     "status": "completed"
    },
    "tags": []
   },
   "source": [
    "Firstly I would like to remind you that we have as of now these variables in the action. \n",
    "* Two weight vector $\\overrightarrow{W}, b$\n",
    "* A prediction vector $h_{(\\overrightarrow{W}, b)}(x)$\n",
    "* An error value $J$\n",
    "* The features itself $x$\n",
    "* The target $y$"
   ]
  },
  {
   "cell_type": "markdown",
   "id": "106559a2",
   "metadata": {
    "papermill": {
     "duration": 0.013491,
     "end_time": "2023-12-14T11:41:11.845572",
     "exception": false,
     "start_time": "2023-12-14T11:41:11.832081",
     "status": "completed"
    },
    "tags": []
   },
   "source": [
    "Now what we need to do is change the parameters $\\overrightarrow{W}$ and $b$ to the perfect amount. We do this using, I hate to break it to you, calculus. Sed Lyf. \n",
    "\n",
    "But here is a rough intuition to Gradient Decent. Suppose you went up a hill and lost you keys on the way up. Now you need to go back and find it. Here are two ways you can go around that problem. Take one step down the hill and look around for the key, repeat untill found. Another approach would be take 30 steps and look around for key, repeat untill found. You would think eh we should go with the second one it would be faster. But let me add to it that in the second case there are chances you might miss the key as you are taking too many steps at a time. The problem with first one is that it is extremely slow. So we need an optimized way of searching, which according to me is around 7 steps. Getting my point, eh? \n",
    "\n",
    "Now the number of steps is another variable called the Learning Rate $\\alpha$. This decides how fast an algorithm learns. I personally set it at 0.01. Oh and it is always between 1 and 0."
   ]
  },
  {
   "cell_type": "markdown",
   "id": "9d39e1fa",
   "metadata": {
    "papermill": {
     "duration": 0.013544,
     "end_time": "2023-12-14T11:41:11.872794",
     "exception": false,
     "start_time": "2023-12-14T11:41:11.859250",
     "status": "completed"
    },
    "tags": []
   },
   "source": [
    "So what gradient descent does is updates the values of $\\overrightarrow{W}$ and $b$ using partial differentiation of cost function. Here is the process mathematically:\n",
    "\n",
    "$temp\\overrightarrow{W} = \\large \\overrightarrow{W} - \\alpha \\frac{\\partial }{\\partial b}J(\\overrightarrow{W}, b)$\n",
    "\n",
    "$tempb = \\large b - \\alpha \\frac{\\partial }{\\partial \\overrightarrow{W}}J(\\overrightarrow{W}, b)$\n",
    "\n",
    "$\\overrightarrow{W} = temp\\overrightarrow{W}$\n",
    "\n",
    "$b = tempb$"
   ]
  },
  {
   "cell_type": "markdown",
   "id": "5903638b",
   "metadata": {
    "papermill": {
     "duration": 0.013472,
     "end_time": "2023-12-14T11:41:11.899676",
     "exception": false,
     "start_time": "2023-12-14T11:41:11.886204",
     "status": "completed"
    },
    "tags": []
   },
   "source": [
    "Repeat above 4 formulas in that order for each and every feature value. It is basically simultaneous update for every $\\overrightarrow{W}$ and $b$ vector."
   ]
  },
  {
   "cell_type": "code",
   "execution_count": 12,
   "id": "e173b6c6",
   "metadata": {
    "execution": {
     "iopub.execute_input": "2023-12-14T11:41:11.929615Z",
     "iopub.status.busy": "2023-12-14T11:41:11.929227Z",
     "iopub.status.idle": "2023-12-14T11:41:11.936512Z",
     "shell.execute_reply": "2023-12-14T11:41:11.935412Z"
    },
    "papermill": {
     "duration": 0.025528,
     "end_time": "2023-12-14T11:41:11.939117",
     "exception": false,
     "start_time": "2023-12-14T11:41:11.913589",
     "status": "completed"
    },
    "tags": []
   },
   "outputs": [],
   "source": [
    "# The learning in machine learning, Gradient Descent Algorithm\n",
    "def gradientDescent(x, y, weights, bias, alpha):\n",
    "    \n",
    "    m = len(y)\n",
    "    \n",
    "    # Now since Machine mathematics is different than human mathematics, \n",
    "    # We will need to write code in a direct manner to be able to use calculus\n",
    "    # So we will not be using this functions at all in the calculation\n",
    "    J = costFunction(x, y, weights, bias)\n",
    "    \n",
    "    h = hypothesisFunction(x, weights, bias)\n",
    "    \n",
    "    dw = (2/m) * np.dot(x.T, (h - y))\n",
    "    db = (2/m) * np.sum(h - y)\n",
    "    \n",
    "    weights = weights - alpha*dw\n",
    "    bias = bias - alpha*db\n",
    "    \n",
    "    return weights, bias\n",
    "\n",
    "# Huh now was it so hard? Thanks to numpy it is hiding that ugly vector and matrix math."
   ]
  },
  {
   "cell_type": "markdown",
   "id": "a0fb28f3",
   "metadata": {
    "papermill": {
     "duration": 0.013477,
     "end_time": "2023-12-14T11:41:11.966576",
     "exception": false,
     "start_time": "2023-12-14T11:41:11.953099",
     "status": "completed"
    },
    "tags": []
   },
   "source": [
    "Now we use all above function to train the machine. Note that gradientDescent() will return weights and bias at a certain iteration/epoch. train() will return the final weights and bias of the machine that will be used for plotting and prediction."
   ]
  },
  {
   "cell_type": "code",
   "execution_count": 13,
   "id": "e114e3a6",
   "metadata": {
    "execution": {
     "iopub.execute_input": "2023-12-14T11:41:11.995888Z",
     "iopub.status.busy": "2023-12-14T11:41:11.995448Z",
     "iopub.status.idle": "2023-12-14T11:41:12.002115Z",
     "shell.execute_reply": "2023-12-14T11:41:12.001038Z"
    },
    "papermill": {
     "duration": 0.024236,
     "end_time": "2023-12-14T11:41:12.004710",
     "exception": false,
     "start_time": "2023-12-14T11:41:11.980474",
     "status": "completed"
    },
    "tags": []
   },
   "outputs": [],
   "source": [
    "# Combining all the above functions together\n",
    "def train(x, y, alpha, epochs):\n",
    "    \n",
    "    # initialize the paramters\n",
    "    weights, bias = initParameters(x)\n",
    "    \n",
    "    # loop for number of iterations\n",
    "    for i in range(epochs):\n",
    "        # run the learning algorithm that updates the values\n",
    "        weights, bias = gradientDescent(x, y, weights, bias, alpha)\n",
    "\n",
    "    return weights, bias"
   ]
  },
  {
   "cell_type": "markdown",
   "id": "25ee6057",
   "metadata": {
    "papermill": {
     "duration": 0.014104,
     "end_time": "2023-12-14T11:41:12.032791",
     "exception": false,
     "start_time": "2023-12-14T11:41:12.018687",
     "status": "completed"
    },
    "tags": []
   },
   "source": [
    "So lets see how good our code is. Of course, time complexity is very bad. But I had to make use of simpler methods to make a clear self explanatory code. But I believe the answer will be near same as the library, because I wrote the code correctly (there is a reason it will be near same and not exactly same, I will explain it at the end.)"
   ]
  },
  {
   "cell_type": "code",
   "execution_count": 14,
   "id": "d379fb65",
   "metadata": {
    "execution": {
     "iopub.execute_input": "2023-12-14T11:41:12.062497Z",
     "iopub.status.busy": "2023-12-14T11:41:12.062082Z",
     "iopub.status.idle": "2023-12-14T11:41:12.068018Z",
     "shell.execute_reply": "2023-12-14T11:41:12.066686Z"
    },
    "papermill": {
     "duration": 0.023828,
     "end_time": "2023-12-14T11:41:12.070466",
     "exception": false,
     "start_time": "2023-12-14T11:41:12.046638",
     "status": "completed"
    },
    "tags": []
   },
   "outputs": [],
   "source": [
    "def predict(x, weights, bias):\n",
    "    predictions = hypothesisFunction(x, weights, bias)\n",
    "    return predictions"
   ]
  },
  {
   "cell_type": "markdown",
   "id": "2e02f66d",
   "metadata": {
    "papermill": {
     "duration": 0.013392,
     "end_time": "2023-12-14T11:41:12.097736",
     "exception": false,
     "start_time": "2023-12-14T11:41:12.084344",
     "status": "completed"
    },
    "tags": []
   },
   "source": [
    "# ...And Action"
   ]
  },
  {
   "cell_type": "code",
   "execution_count": 15,
   "id": "53558339",
   "metadata": {
    "execution": {
     "iopub.execute_input": "2023-12-14T11:41:12.126910Z",
     "iopub.status.busy": "2023-12-14T11:41:12.126461Z",
     "iopub.status.idle": "2023-12-14T11:41:12.193234Z",
     "shell.execute_reply": "2023-12-14T11:41:12.192113Z"
    },
    "papermill": {
     "duration": 0.084471,
     "end_time": "2023-12-14T11:41:12.195775",
     "exception": false,
     "start_time": "2023-12-14T11:41:12.111304",
     "status": "completed"
    },
    "tags": []
   },
   "outputs": [
    {
     "data": {
      "text/plain": [
       "array([[117209.63408088],\n",
       "       [ 70880.39720836],\n",
       "       [103409.43586353],\n",
       "       [ 74823.31098474],\n",
       "       [ 54123.01365873],\n",
       "       [ 59051.65587921],\n",
       "       [124109.73318955],\n",
       "       [108338.07808401],\n",
       "       [ 62008.8412115 ],\n",
       "       [ 33422.71633271]])"
      ]
     },
     "execution_count": 15,
     "metadata": {},
     "output_type": "execute_result"
    }
   ],
   "source": [
    "# Train the logistic regression model\n",
    "weights, bias = train(x_train, y_train, alpha=0.001, epochs=5000)\n",
    "\n",
    "# Make predictions on the test set\n",
    "y_pred = predict(x_test, weights, bias)\n",
    "y_pred"
   ]
  },
  {
   "cell_type": "code",
   "execution_count": 16,
   "id": "1c906a1e",
   "metadata": {},
   "outputs": [
    {
     "data": {
      "text/plain": [
       "array([[112636.],\n",
       "       [ 67939.],\n",
       "       [113813.],\n",
       "       [ 83089.],\n",
       "       [ 64446.],\n",
       "       [ 57190.],\n",
       "       [122392.],\n",
       "       [109432.],\n",
       "       [ 56958.],\n",
       "       [ 39344.]])"
      ]
     },
     "execution_count": 16,
     "metadata": {},
     "output_type": "execute_result"
    }
   ],
   "source": [
    "y_test"
   ]
  },
  {
   "cell_type": "code",
   "execution_count": 17,
   "id": "20d0404c",
   "metadata": {
    "execution": {
     "iopub.execute_input": "2023-12-14T11:41:12.225413Z",
     "iopub.status.busy": "2023-12-14T11:41:12.224940Z",
     "iopub.status.idle": "2023-12-14T11:41:12.508799Z",
     "shell.execute_reply": "2023-12-14T11:41:12.507667Z"
    },
    "papermill": {
     "duration": 0.302065,
     "end_time": "2023-12-14T11:41:12.511611",
     "exception": false,
     "start_time": "2023-12-14T11:41:12.209546",
     "status": "completed"
    },
    "tags": []
   },
   "outputs": [
    {
     "data": {
      "image/png": "[encoded data removed]",
      "text/plain": [
       "<Figure size 640x480 with 1 Axes>"
      ]
     },
     "metadata": {},
     "output_type": "display_data"
    }
   ],
   "source": [
    "# Plot the line along with our training data points\n",
    "plt.scatter(x_train, y_train, s=70, c='b')\n",
    "\n",
    "plt.xlabel('YearsExperience')\n",
    "plt.ylabel('Salary')\n",
    "plt.title('Train Data with Regression Line from Scratch Code')\n",
    "\n",
    "plt.plot(x_train, (bias + weights*x_train), c='r')\n",
    "\n",
    "plt.show()"
   ]
  },
  {
   "cell_type": "code",
   "execution_count": 18,
   "id": "5c7e2992",
   "metadata": {
    "execution": {
     "iopub.execute_input": "2023-12-14T11:41:12.543064Z",
     "iopub.status.busy": "2023-12-14T11:41:12.542648Z",
     "iopub.status.idle": "2023-12-14T11:41:12.828753Z",
     "shell.execute_reply": "2023-12-14T11:41:12.827531Z"
    },
    "papermill": {
     "duration": 0.304799,
     "end_time": "2023-12-14T11:41:12.831377",
     "exception": false,
     "start_time": "2023-12-14T11:41:12.526578",
     "status": "completed"
    },
    "tags": []
   },
   "outputs": [
    {
     "data": {
      "image/png": "[encoded data removed]",
      "text/plain": [
       "<Figure size 640x480 with 1 Axes>"
      ]
     },
     "metadata": {},
     "output_type": "display_data"
    }
   ],
   "source": [
    "# Plot the line along with our test data points\n",
    "plt.scatter(x_test, y_test, s=70, c='b')\n",
    "\n",
    "plt.xlabel('YearsExperience')\n",
    "plt.ylabel('Salary')\n",
    "plt.title('Test Data with Regression Line from Scratch Code')\n",
    "\n",
    "plt.plot(x_train, (bias + weights*x_train), c='r')\n",
    "\n",
    "plt.show()"
   ]
  },
  {
   "cell_type": "markdown",
   "id": "804f99a0",
   "metadata": {
    "papermill": {
     "duration": 0.015116,
     "end_time": "2023-12-14T11:41:12.861533",
     "exception": false,
     "start_time": "2023-12-14T11:41:12.846417",
     "status": "completed"
    },
    "tags": []
   },
   "source": [
    "# Evaluation"
   ]
  },
  {
   "cell_type": "markdown",
   "id": "293b75ed",
   "metadata": {
    "papermill": {
     "duration": 0.014595,
     "end_time": "2023-12-14T11:41:12.891225",
     "exception": false,
     "start_time": "2023-12-14T11:41:12.876630",
     "status": "completed"
    },
    "tags": []
   },
   "source": [
    "This one can be complex. We now are actually calculating error. We need $R^2$ from this. So this is how we get it. Follow the trail of formulas:\n",
    "\n",
    "Error:\n",
    "\n",
    "$\\large E_i = (y_{test_i} - y_{pred_i})$\n",
    "\n",
    "Residual Sum of Squares:\n",
    "\n",
    "$\\large RSS = \\sum_{i=0}^{n}(E_{i}^{2})$\n",
    "\n",
    "Total Sum of Squares:\n",
    "\n",
    "$\\large TSS = \\sum_{i=0}^{n}(y_{test} - \\bar{y})^2$\n",
    "\n",
    "Coefficient of Determination:\n",
    "\n",
    "$\\large R^2 = 1 - \\frac{RSS}{TSS}$\n",
    "\n",
    "Yup a long trail. Below I tried to implement seperately to get you a feel of how each of these signify different thing."
   ]
  },
  {
   "cell_type": "code",
   "execution_count": 19,
   "id": "1ee4c9bd",
   "metadata": {
    "_kg_hide-input": true,
    "execution": {
     "iopub.execute_input": "2023-12-14T11:41:12.923309Z",
     "iopub.status.busy": "2023-12-14T11:41:12.922894Z",
     "iopub.status.idle": "2023-12-14T11:41:12.931891Z",
     "shell.execute_reply": "2023-12-14T11:41:12.931066Z"
    },
    "papermill": {
     "duration": 0.028378,
     "end_time": "2023-12-14T11:41:12.934094",
     "exception": false,
     "start_time": "2023-12-14T11:41:12.905716",
     "status": "completed"
    },
    "tags": []
   },
   "outputs": [
    {
     "name": "stdout",
     "output_type": "stream",
     "text": [
      "Residual Sum Of Squares: 380875387.177365\n",
      "Total Sum Of Squares: 7898632198.9\n",
      "Coefficient of Determination: 0.9517795768195907\n"
     ]
    }
   ],
   "source": [
    "# Calculate Accuracy (Did nested Function call to make you understand what goes where)\n",
    "\n",
    "def Error(preds, y_test):\n",
    "    errorList = []  \n",
    "    for i in range(len(preds)):\n",
    "        errorList.append(y_test[i][0] - preds[i][0])\n",
    "    return errorList\n",
    "\n",
    "def ResidualSumOfSquares(errorList):\n",
    "    RSS = np.sum(np.square(errorList))\n",
    "    print(f'Residual Sum Of Squares: {RSS}')\n",
    "    return RSS\n",
    "\n",
    "def TotalSumOfSquares(y_test):\n",
    "    TSS = np.sum( (y_test - np.mean(y_test)) ** 2 )\n",
    "    print(f'Total Sum Of Squares: {TSS}')\n",
    "    return TSS\n",
    "\n",
    "def CoefficientOfDetermination(errorList, y_test):\n",
    "    R2 = 1 - ( ResidualSumOfSquares(errorList) / TotalSumOfSquares(y_test) )\n",
    "    print(f'Coefficient of Determination: {R2}')\n",
    "\n",
    "CoefficientOfDetermination(Error(y_pred, y_test), y_test)\n"
   ]
  },
  {
   "cell_type": "markdown",
   "id": "96dce1e2",
   "metadata": {
    "papermill": {
     "duration": 0.01474,
     "end_time": "2023-12-14T11:41:13.005784",
     "exception": false,
     "start_time": "2023-12-14T11:41:12.991044",
     "status": "completed"
    },
    "tags": []
   },
   "source": [
    "Now remember I said our output will not be exactly same as the library one? Yeah, here is the answer to that. In the first notebook [Linear Regression using Ordinary Least Square](https://www.kaggle.com/code/pathikviramgama/linear-regression-scratch-with-ols?scriptVersionId=150452856), we were using algebra to calculate the answer. Algebra will always give exact answer no matter number of repeatition we do. Hence we will have exactly same result everytime in that method. But in Gradient Descent, we use Calculus. Calculus is notorious. It gives the answer correctly, but it at its base is approximation, right? Hence on a very minute level we see difference. Hence due to that we might not get the exactly same answer because we dont know how the weights change over time."
   ]
  },
  {
   "cell_type": "markdown",
   "id": "5698c9f5",
   "metadata": {
    "papermill": {
     "duration": 0.01463,
     "end_time": "2023-12-14T11:41:13.035266",
     "exception": false,
     "start_time": "2023-12-14T11:41:13.020636",
     "status": "completed"
    },
    "tags": []
   },
   "source": [
    "Now that was actually easy for me no kidding. There are a lot more things and stuff to manipulate in a linear regression algorithm like regularization and hyperparameter tunning, with variation like L1 and L2 Linear Regression, Ridge Regression, Lasso Regression, Gamma Regression, etc. For now we conclude this code."
   ]
  }
 ],
 "metadata": {
  "kaggle": {
   "accelerator": "none",
   "dataSources": [
    {
     "datasetId": 2799910,
     "sourceId": 4832081,
     "sourceType": "datasetVersion"
    }
   ],
   "dockerImageVersionId": 30558,
   "isGpuEnabled": false,
   "isInternetEnabled": true,
   "language": "python",
   "sourceType": "notebook"
  },
  "kernelspec": {
   "display_name": "Python 3",
   "language": "python",
   "name": "python3"
  },
  "language_info": {
   "codemirror_mode": {
    "name": "ipython",
    "version": 3
   },
   "file_extension": ".py",
   "mimetype": "text/x-python",
   "name": "python",
   "nbconvert_exporter": "python",
   "pygments_lexer": "ipython3",
   "version": "3.11.9"
  },
  "papermill": {
   "default_parameters": {},
   "duration": 9.795359,
   "end_time": "2023-12-14T11:41:13.570858",
   "environment_variables": {},
   "exception": null,
   "input_path": "__notebook__.ipynb",
   "output_path": "__notebook__.ipynb",
   "parameters": {},
   "start_time": "2023-12-14T11:41:03.775499",
   "version": "2.4.0"
  }
 },
 "nbformat": 4,
 "nbformat_minor": 5
}
