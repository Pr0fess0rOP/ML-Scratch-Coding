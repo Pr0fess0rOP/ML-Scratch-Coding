{
 "cells": [
  {
   "cell_type": "markdown",
   "metadata": {},
   "source": [
    "# Notebook -4: OOPS in Python"
   ]
  },
  {
   "cell_type": "markdown",
   "metadata": {},
   "source": [
    "This code was created for a seminar by me for a OOPS session in PDEU. So it will be a little professional as opposed to my other notebooks that use highest form of mockery! Enjoy"
   ]
  },
  {
   "cell_type": "markdown",
   "metadata": {},
   "source": [
    "OOPS is Object Oriented Programing which means we will be using the concept of class, objects, methods and attributes\n",
    "\n",
    "* Classes are user-defined data types that act as the blueprint for individual objects, attributes and methods. When class is defined initially, the description is the only object that is defined\n",
    "\n",
    "* Objects are instances of a class created with specifically defined data. Objects can correspond to real-world objects or an abstract entity. \n",
    " \n",
    "* Methods are functions that are defined inside a class that describe the behaviors of an object. Each method contained in class definitions starts with a reference to an instance object. Additionally, the subroutines contained in an object are called instance methods. Programmers use methods for reusability or keeping functionality encapsulated inside one object at a time.\n",
    "\n",
    "* Attributes are defined in the class template and represent the state of an object. Objects will have data stored in the attributes field. Class attributes belong to the class itself.\n"
   ]
  },
  {
   "cell_type": "markdown",
   "metadata": {},
   "source": [
    "The four main principles of OOPS are \n",
    "1. Encapsulation\n",
    "2. Abstraction\n",
    "3. Inheritance\n",
    "4. Polymorphism\n",
    "\n",
    "We will see each one in the later part"
   ]
  },
  {
   "cell_type": "markdown",
   "metadata": {},
   "source": [
    "## The normal way is also the OOPS way"
   ]
  },
  {
   "cell_type": "code",
   "execution_count": 40,
   "metadata": {
    "execution": {
     "iopub.execute_input": "2024-03-29T23:49:36.160071Z",
     "iopub.status.busy": "2024-03-29T23:49:36.159204Z",
     "iopub.status.idle": "2024-03-29T23:49:36.196727Z",
     "shell.execute_reply": "2024-03-29T23:49:36.195789Z",
     "shell.execute_reply.started": "2024-03-29T23:49:36.160036Z"
    },
    "trusted": true
   },
   "outputs": [
    {
     "name": "stdout",
     "output_type": "stream",
     "text": [
      "<class 'str'>\n",
      "<class 'int'>\n",
      "<class 'int'>\n",
      "<class 'int'>\n"
     ]
    }
   ],
   "source": [
    "# Create variables\n",
    "college = 'PDEU'\n",
    "college_fees = 124000\n",
    "college_sem = 8\n",
    "total_fees = college_fees*college_sem\n",
    "\n",
    "print(type(college))\n",
    "print(type(college_fees))\n",
    "print(type(college_sem))\n",
    "print(type(total_fees))"
   ]
  },
  {
   "cell_type": "markdown",
   "metadata": {},
   "source": [
    "## Create a class and method"
   ]
  },
  {
   "cell_type": "code",
   "execution_count": 41,
   "metadata": {
    "execution": {
     "iopub.execute_input": "2024-03-29T23:49:44.068536Z",
     "iopub.status.busy": "2024-03-29T23:49:44.067567Z",
     "iopub.status.idle": "2024-03-29T23:49:44.073890Z",
     "shell.execute_reply": "2024-03-29T23:49:44.072487Z",
     "shell.execute_reply.started": "2024-03-29T23:49:44.068499Z"
    },
    "trusted": true
   },
   "outputs": [],
   "source": [
    "# Create a class\n",
    "class college:\n",
    "    # Create a method\n",
    "    def calculateTotalFees(self, x, y):\n",
    "        # side note: this self is important. That self is basically us passing the object (that we apply this method on).\n",
    "        # it is as simple as saying \"On what will our method be applied on?\"\n",
    "        temp = x*y\n",
    "        return temp\n",
    "        # Dont get me wrong we can create methods without self, but you cannot apply them on objects, because it does not accept any arguments."
   ]
  },
  {
   "cell_type": "code",
   "execution_count": 42,
   "metadata": {
    "execution": {
     "iopub.execute_input": "2024-03-29T23:49:46.186201Z",
     "iopub.status.busy": "2024-03-29T23:49:46.185731Z",
     "iopub.status.idle": "2024-03-29T23:49:46.194768Z",
     "shell.execute_reply": "2024-03-29T23:49:46.193032Z",
     "shell.execute_reply.started": "2024-03-29T23:49:46.186150Z"
    },
    "trusted": true
   },
   "outputs": [
    {
     "name": "stdout",
     "output_type": "stream",
     "text": [
      "<class '__main__.college'>\n",
      "<class 'str'>\n",
      "<class 'int'>\n",
      "<class 'int'>\n",
      "992000\n"
     ]
    }
   ],
   "source": [
    "# lets create an instance object for our class\n",
    "my_college = college()\n",
    "my_college.name = 'PDEU'\n",
    "my_college.fees = 124000\n",
    "my_college.sem = 8\n",
    "\n",
    "# call the method we defined\n",
    "total_fees = my_college.calculateTotalFees(my_college.fees, my_college.sem)\n",
    "\n",
    "# Lets see the results\n",
    "print(type(my_college))\n",
    "print(type(my_college.name))\n",
    "print(type(my_college.fees))\n",
    "print(type(my_college.sem))\n",
    "print((total_fees))"
   ]
  },
  {
   "cell_type": "markdown",
   "metadata": {},
   "source": [
    "Now, i see a problem here. Anyone else does? It is that we need to create instances for each of our object like the .name, .fees, etc. What if we defined that in our class itself? Yes it can be done using a special magic method called \\__init__\n",
    "\n",
    "Lets rewrite our class to include this feature"
   ]
  },
  {
   "cell_type": "markdown",
   "metadata": {},
   "source": [
    "## The Magic of \\__init__"
   ]
  },
  {
   "cell_type": "code",
   "execution_count": 43,
   "metadata": {
    "execution": {
     "iopub.execute_input": "2024-03-29T23:49:48.926104Z",
     "iopub.status.busy": "2024-03-29T23:49:48.924917Z",
     "iopub.status.idle": "2024-03-29T23:49:48.933538Z",
     "shell.execute_reply": "2024-03-29T23:49:48.932291Z",
     "shell.execute_reply.started": "2024-03-29T23:49:48.926057Z"
    },
    "trusted": true
   },
   "outputs": [],
   "source": [
    "class college:\n",
    "    # Create our magic method\n",
    "    def __init__(self, name, fees, sem):\n",
    "        \n",
    "        # Whenever you create an object from the class, the init function will automatically be called everytime\n",
    "        # my_college.name = 'PDEU'\n",
    "        self.name = name\n",
    "        print(f'Attribute {name} created')\n",
    "        \n",
    "        # my_college.fees = 124000\n",
    "        self.fees = fees\n",
    "        print(f'Attribute {fees} created')\n",
    "        \n",
    "        # my_college.sem = 8\n",
    "        self.sem = sem\n",
    "        print(f'Attribute {sem} created')\n",
    "        \n",
    "    def calculateTotalFees(self, x, y):\n",
    "        temp = x*y\n",
    "        return temp"
   ]
  },
  {
   "cell_type": "code",
   "execution_count": 44,
   "metadata": {
    "execution": {
     "iopub.execute_input": "2024-03-29T23:49:49.933833Z",
     "iopub.status.busy": "2024-03-29T23:49:49.933389Z",
     "iopub.status.idle": "2024-03-29T23:49:49.940035Z",
     "shell.execute_reply": "2024-03-29T23:49:49.938858Z",
     "shell.execute_reply.started": "2024-03-29T23:49:49.933798Z"
    },
    "trusted": true
   },
   "outputs": [
    {
     "name": "stdout",
     "output_type": "stream",
     "text": [
      "Attribute PDEU created\n",
      "Attribute 124000 created\n",
      "Attribute 8 created\n"
     ]
    }
   ],
   "source": [
    "# lets create an instance object for our class\n",
    "my_college = college('PDEU', 124000, 8)\n",
    "\n",
    "# call the method we defined\n",
    "total_fees = my_college.calculateTotalFees(my_college.fees, my_college.sem)"
   ]
  },
  {
   "cell_type": "markdown",
   "metadata": {},
   "source": [
    "## The use of \\__init__ in methods"
   ]
  },
  {
   "cell_type": "code",
   "execution_count": 45,
   "metadata": {
    "execution": {
     "iopub.execute_input": "2024-03-29T23:49:51.758587Z",
     "iopub.status.busy": "2024-03-29T23:49:51.758166Z",
     "iopub.status.idle": "2024-03-29T23:49:51.767651Z",
     "shell.execute_reply": "2024-03-29T23:49:51.766436Z",
     "shell.execute_reply.started": "2024-03-29T23:49:51.758556Z"
    },
    "trusted": true
   },
   "outputs": [],
   "source": [
    "class college:\n",
    "    # Create our magic method\n",
    "    def __init__(self, name, fees, sem):\n",
    "        \n",
    "        # Whenever you create an object from the class, the init function will automatically be called everytime\n",
    "        # my_college.name = 'PDEU'\n",
    "        self.name = name\n",
    "        print(f'Attribute {name} created')\n",
    "        \n",
    "        # my_college.fees = 124000\n",
    "        self.fees = fees\n",
    "        print(f'Attribute {fees} created')\n",
    "        \n",
    "        # my_college.sem = 8\n",
    "        self.sem = sem\n",
    "        print(f'Attribute {sem} created')\n",
    "    \n",
    "    # Simple take a third variable in this function and assign it 0 by default if no value is given\n",
    "    # Note that a non-default varaible cannot be preceded by a default!\n",
    "    # I a going to include one more thing, we dont need fees and sem varaible here because due to __init__ our onject class is already possessing those variables!\n",
    "    def calculateTotalFees(self, scholarship=0):\n",
    "        # Since we already have access to fees and sem\n",
    "        temp = self.fees*self.sem-scholarship\n",
    "        return temp"
   ]
  },
  {
   "cell_type": "code",
   "execution_count": 46,
   "metadata": {
    "execution": {
     "iopub.execute_input": "2024-03-29T23:49:52.924143Z",
     "iopub.status.busy": "2024-03-29T23:49:52.923728Z",
     "iopub.status.idle": "2024-03-29T23:49:52.930984Z",
     "shell.execute_reply": "2024-03-29T23:49:52.929596Z",
     "shell.execute_reply.started": "2024-03-29T23:49:52.924098Z"
    },
    "trusted": true
   },
   "outputs": [
    {
     "name": "stdout",
     "output_type": "stream",
     "text": [
      "Attribute PDEU created\n",
      "Attribute 124000 created\n",
      "Attribute 8 created\n",
      "992000\n"
     ]
    }
   ],
   "source": [
    "# lets create an instance object for our class\n",
    "my_college = college('PDEU', 124000, 8)\n",
    "\n",
    "# call the method we defined, remomve the  arguments of fees and sem\n",
    "total_fees = my_college.calculateTotalFees()\n",
    "print(total_fees)"
   ]
  },
  {
   "cell_type": "code",
   "execution_count": 47,
   "metadata": {
    "execution": {
     "iopub.execute_input": "2024-03-29T23:49:58.430488Z",
     "iopub.status.busy": "2024-03-29T23:49:58.430036Z",
     "iopub.status.idle": "2024-03-29T23:49:58.436410Z",
     "shell.execute_reply": "2024-03-29T23:49:58.435443Z",
     "shell.execute_reply.started": "2024-03-29T23:49:58.430457Z"
    },
    "trusted": true
   },
   "outputs": [
    {
     "name": "stdout",
     "output_type": "stream",
     "text": [
      "Attribute PDEU created\n",
      "Attribute 124000 created\n",
      "Attribute 8 created\n",
      "892000\n"
     ]
    }
   ],
   "source": [
    "# lets create an instance object for our class\n",
    "my_college = college('PDEU', 124000, 8)\n",
    "\n",
    "# call the method we defined, remomve the  arguments of fees and sem  and add scholarship\n",
    "total_fees = my_college.calculateTotalFees(100000)\n",
    "print(total_fees)"
   ]
  },
  {
   "cell_type": "markdown",
   "metadata": {},
   "source": [
    "## Datatypes validation"
   ]
  },
  {
   "cell_type": "code",
   "execution_count": 48,
   "metadata": {
    "execution": {
     "iopub.execute_input": "2024-03-29T23:50:00.614339Z",
     "iopub.status.busy": "2024-03-29T23:50:00.613886Z",
     "iopub.status.idle": "2024-03-29T23:50:00.622038Z",
     "shell.execute_reply": "2024-03-29T23:50:00.620644Z",
     "shell.execute_reply.started": "2024-03-29T23:50:00.614296Z"
    },
    "trusted": true
   },
   "outputs": [],
   "source": [
    "class college:\n",
    "    # Create our magic method\n",
    "    # I simply define the varibale type the class accepts\n",
    "    def __init__(self, name: str, fees: float, sem: int):\n",
    "        \n",
    "        # my_college.name = 'PDEU'\n",
    "        self.name = name\n",
    "        print(f'Attribute {name} created')\n",
    "        \n",
    "        # my_college.fees = 124000\n",
    "        self.fees = fees\n",
    "        print(type(fees))\n",
    "        print(f'Attribute {fees} created')\n",
    "        \n",
    "        # my_college.sem = 8\n",
    "        self.sem = sem\n",
    "        print(f'Attribute {sem} created')\n",
    "    \n",
    "    # Note that i passed default 0 to scholarship, python will assume scholarship to be int everytime, no need to define it\n",
    "    def calculateTotalFees(self, scholarship=0):\n",
    "        temp = self.fees*self.sem-scholarship\n",
    "        return temp"
   ]
  },
  {
   "cell_type": "code",
   "execution_count": 49,
   "metadata": {
    "execution": {
     "iopub.execute_input": "2024-03-29T23:50:01.653952Z",
     "iopub.status.busy": "2024-03-29T23:50:01.653506Z",
     "iopub.status.idle": "2024-03-29T23:50:01.965462Z",
     "shell.execute_reply": "2024-03-29T23:50:01.963634Z",
     "shell.execute_reply.started": "2024-03-29T23:50:01.653915Z"
    },
    "trusted": true
   },
   "outputs": [
    {
     "name": "stdout",
     "output_type": "stream",
     "text": [
      "Attribute PDEU created\n",
      "<class 'str'>\n",
      "Attribute 124000 created\n",
      "Attribute 8 created\n"
     ]
    },
    {
     "ename": "TypeError",
     "evalue": "unsupported operand type(s) for -: 'str' and 'int'",
     "output_type": "error",
     "traceback": [
      "\u001b[1;31m---------------------------------------------------------------------------\u001b[0m",
      "\u001b[1;31mTypeError\u001b[0m                                 Traceback (most recent call last)",
      "Cell \u001b[1;32mIn[49], line 6\u001b[0m\n\u001b[0;32m      2\u001b[0m my_college \u001b[38;5;241m=\u001b[39m college(\u001b[38;5;124m\"\u001b[39m\u001b[38;5;124mPDEU\u001b[39m\u001b[38;5;124m\"\u001b[39m, \u001b[38;5;124m'\u001b[39m\u001b[38;5;124m124000\u001b[39m\u001b[38;5;124m'\u001b[39m, \u001b[38;5;241m8\u001b[39m)\n\u001b[0;32m      3\u001b[0m \u001b[38;5;66;03m# It will not invoke an error here because we just assiging stuff\u001b[39;00m\n\u001b[0;32m      4\u001b[0m \n\u001b[0;32m      5\u001b[0m \u001b[38;5;66;03m# call the method we defined\u001b[39;00m\n\u001b[1;32m----> 6\u001b[0m total_fees \u001b[38;5;241m=\u001b[39m \u001b[43mmy_college\u001b[49m\u001b[38;5;241;43m.\u001b[39;49m\u001b[43mcalculateTotalFees\u001b[49m\u001b[43m(\u001b[49m\u001b[38;5;241;43m100000\u001b[39;49m\u001b[43m)\u001b[49m\n\u001b[0;32m      7\u001b[0m \u001b[38;5;66;03m# it will wreak havok here!\u001b[39;00m\n\u001b[0;32m      8\u001b[0m \u001b[38;5;28mprint\u001b[39m(total_fees)\n",
      "Cell \u001b[1;32mIn[48], line 21\u001b[0m, in \u001b[0;36mcollege.calculateTotalFees\u001b[1;34m(self, scholarship)\u001b[0m\n\u001b[0;32m     20\u001b[0m \u001b[38;5;28;01mdef\u001b[39;00m \u001b[38;5;21mcalculateTotalFees\u001b[39m(\u001b[38;5;28mself\u001b[39m, scholarship\u001b[38;5;241m=\u001b[39m\u001b[38;5;241m0\u001b[39m):\n\u001b[1;32m---> 21\u001b[0m     temp \u001b[38;5;241m=\u001b[39m \u001b[38;5;28;43mself\u001b[39;49m\u001b[38;5;241;43m.\u001b[39;49m\u001b[43mfees\u001b[49m\u001b[38;5;241;43m*\u001b[39;49m\u001b[38;5;28;43mself\u001b[39;49m\u001b[38;5;241;43m.\u001b[39;49m\u001b[43msem\u001b[49m\u001b[38;5;241;43m-\u001b[39;49m\u001b[43mscholarship\u001b[49m\n\u001b[0;32m     22\u001b[0m     \u001b[38;5;28;01mreturn\u001b[39;00m temp\n",
      "\u001b[1;31mTypeError\u001b[0m: unsupported operand type(s) for -: 'str' and 'int'"
     ]
    }
   ],
   "source": [
    "# lets create an instance object for our class\n",
    "my_college = college(\"PDEU\", '124000', 8)\n",
    "# It will not invoke an error here because we just assiging stuff\n",
    "\n",
    "# call the method we defined\n",
    "total_fees = my_college.calculateTotalFees(100000)\n",
    "# it will wreak havok here!\n",
    "print(total_fees)"
   ]
  },
  {
   "cell_type": "markdown",
   "metadata": {},
   "source": [
    "## Assert function"
   ]
  },
  {
   "cell_type": "code",
   "execution_count": 50,
   "metadata": {
    "execution": {
     "iopub.execute_input": "2024-03-29T23:50:04.117426Z",
     "iopub.status.busy": "2024-03-29T23:50:04.116262Z",
     "iopub.status.idle": "2024-03-29T23:50:04.124906Z",
     "shell.execute_reply": "2024-03-29T23:50:04.123726Z",
     "shell.execute_reply.started": "2024-03-29T23:50:04.117379Z"
    },
    "trusted": true
   },
   "outputs": [],
   "source": [
    "class college:\n",
    "    # Create our magic method\n",
    "    def __init__(self, name: str, fees: float, sem: int):\n",
    "        \n",
    "        # Run validations\n",
    "        # Check for fees being negative\n",
    "        assert fees >= 0, f'expected non-negative, recieved {fees}'\n",
    "        # Check for sem being negative\n",
    "        assert sem >= 0, f'expected non-negative, recieved {sem}'\n",
    "        \n",
    "        # Assign to self object\n",
    "        # my_college.name = 'PDEU'\n",
    "        self.name = name\n",
    "        print(f'Attribute {name} created')\n",
    "        \n",
    "        # my_college.fees = 124000\n",
    "        self.fees = fees\n",
    "        print(f'Attribute {fees} created')\n",
    "        \n",
    "        # my_college.sem = 8\n",
    "        self.sem = sem\n",
    "        print(f'Attribute {sem} created')\n",
    "    \n",
    "    def calculateTotalFees(self, scholarship=0):\n",
    "        temp = self.fees*self.sem-scholarship\n",
    "        return temp"
   ]
  },
  {
   "cell_type": "code",
   "execution_count": 51,
   "metadata": {
    "execution": {
     "iopub.execute_input": "2024-03-29T23:50:05.738152Z",
     "iopub.status.busy": "2024-03-29T23:50:05.737652Z",
     "iopub.status.idle": "2024-03-29T23:50:05.783052Z",
     "shell.execute_reply": "2024-03-29T23:50:05.781685Z",
     "shell.execute_reply.started": "2024-03-29T23:50:05.738081Z"
    },
    "trusted": true
   },
   "outputs": [
    {
     "ename": "AssertionError",
     "evalue": "expected non-negative, recieved -1",
     "output_type": "error",
     "traceback": [
      "\u001b[1;31m---------------------------------------------------------------------------\u001b[0m",
      "\u001b[1;31mAssertionError\u001b[0m                            Traceback (most recent call last)",
      "Cell \u001b[1;32mIn[51], line 2\u001b[0m\n\u001b[0;32m      1\u001b[0m \u001b[38;5;66;03m# lets create an instance object for our class\u001b[39;00m\n\u001b[1;32m----> 2\u001b[0m my_college \u001b[38;5;241m=\u001b[39m \u001b[43mcollege\u001b[49m\u001b[43m(\u001b[49m\u001b[38;5;124;43m\"\u001b[39;49m\u001b[38;5;124;43mPDEU\u001b[39;49m\u001b[38;5;124;43m\"\u001b[39;49m\u001b[43m,\u001b[49m\u001b[43m \u001b[49m\u001b[38;5;241;43m124000\u001b[39;49m\u001b[43m,\u001b[49m\u001b[43m \u001b[49m\u001b[38;5;241;43m-\u001b[39;49m\u001b[38;5;241;43m1\u001b[39;49m\u001b[43m)\u001b[49m\n\u001b[0;32m      3\u001b[0m \u001b[38;5;66;03m# it will wreak havok here!\u001b[39;00m\n\u001b[0;32m      4\u001b[0m \n\u001b[0;32m      5\u001b[0m \u001b[38;5;66;03m# call the method we defined\u001b[39;00m\n\u001b[0;32m      6\u001b[0m total_fees \u001b[38;5;241m=\u001b[39m my_college\u001b[38;5;241m.\u001b[39mcalculateTotalFees(\u001b[38;5;241m100000\u001b[39m)\n",
      "Cell \u001b[1;32mIn[50], line 9\u001b[0m, in \u001b[0;36mcollege.__init__\u001b[1;34m(self, name, fees, sem)\u001b[0m\n\u001b[0;32m      7\u001b[0m \u001b[38;5;28;01massert\u001b[39;00m fees \u001b[38;5;241m>\u001b[39m\u001b[38;5;241m=\u001b[39m \u001b[38;5;241m0\u001b[39m, \u001b[38;5;124mf\u001b[39m\u001b[38;5;124m'\u001b[39m\u001b[38;5;124mexpected non-negative, recieved \u001b[39m\u001b[38;5;132;01m{\u001b[39;00mfees\u001b[38;5;132;01m}\u001b[39;00m\u001b[38;5;124m'\u001b[39m\n\u001b[0;32m      8\u001b[0m \u001b[38;5;66;03m# Check for sem being negative\u001b[39;00m\n\u001b[1;32m----> 9\u001b[0m \u001b[38;5;28;01massert\u001b[39;00m sem \u001b[38;5;241m>\u001b[39m\u001b[38;5;241m=\u001b[39m \u001b[38;5;241m0\u001b[39m, \u001b[38;5;124mf\u001b[39m\u001b[38;5;124m'\u001b[39m\u001b[38;5;124mexpected non-negative, recieved \u001b[39m\u001b[38;5;132;01m{\u001b[39;00msem\u001b[38;5;132;01m}\u001b[39;00m\u001b[38;5;124m'\u001b[39m\n\u001b[0;32m     11\u001b[0m \u001b[38;5;66;03m# Assign to self object\u001b[39;00m\n\u001b[0;32m     12\u001b[0m \u001b[38;5;66;03m# my_college.name = 'PDEU'\u001b[39;00m\n\u001b[0;32m     13\u001b[0m \u001b[38;5;28mself\u001b[39m\u001b[38;5;241m.\u001b[39mname \u001b[38;5;241m=\u001b[39m name\n",
      "\u001b[1;31mAssertionError\u001b[0m: expected non-negative, recieved -1"
     ]
    }
   ],
   "source": [
    "# lets create an instance object for our class\n",
    "my_college = college(\"PDEU\", 124000, -1)\n",
    "# it will wreak havok here!\n",
    "\n",
    "# call the method we defined\n",
    "total_fees = my_college.calculateTotalFees(100000)\n",
    "\n",
    "print(total_fees)"
   ]
  },
  {
   "cell_type": "markdown",
   "metadata": {},
   "source": [
    "## Class Attribute"
   ]
  },
  {
   "cell_type": "code",
   "execution_count": 52,
   "metadata": {
    "execution": {
     "iopub.execute_input": "2024-03-29T23:50:09.770196Z",
     "iopub.status.busy": "2024-03-29T23:50:09.769720Z",
     "iopub.status.idle": "2024-03-29T23:50:09.778762Z",
     "shell.execute_reply": "2024-03-29T23:50:09.777284Z",
     "shell.execute_reply.started": "2024-03-29T23:50:09.770159Z"
    },
    "trusted": true
   },
   "outputs": [],
   "source": [
    "class college:\n",
    "    # Define class attributes\n",
    "    location = \"India\"\n",
    "    \n",
    "    # Create our magic method\n",
    "    def __init__(self, name: str, fees: float, sem: int):\n",
    "        \n",
    "        # Run validations\n",
    "        assert fees >= 0, f'expected non-negative, recieved {fees}'\n",
    "        assert sem >= 0, f'expected non-negative, recieved {sem}'\n",
    "        \n",
    "        # Assign to self object\n",
    "        # my_college.name = 'PDEU'\n",
    "        self.name = name\n",
    "        print(f'Attribute {name} created')\n",
    "        \n",
    "        # my_college.fees = 124000\n",
    "        self.fees = fees\n",
    "        print(f'Attribute {fees} created')\n",
    "        \n",
    "        # my_college.sem = 8\n",
    "        self.sem = sem\n",
    "        print(f'Attribute {sem} created')\n",
    "    \n",
    "    def calculateTotalFees(self, scholarship=0):\n",
    "        temp = self.fees*self.sem-scholarship\n",
    "        return temp"
   ]
  },
  {
   "cell_type": "code",
   "execution_count": 53,
   "metadata": {
    "execution": {
     "iopub.execute_input": "2024-03-29T23:50:11.663015Z",
     "iopub.status.busy": "2024-03-29T23:50:11.662588Z",
     "iopub.status.idle": "2024-03-29T23:50:11.670779Z",
     "shell.execute_reply": "2024-03-29T23:50:11.669329Z",
     "shell.execute_reply.started": "2024-03-29T23:50:11.662981Z"
    },
    "trusted": true
   },
   "outputs": [
    {
     "name": "stdout",
     "output_type": "stream",
     "text": [
      "Attribute PDEU created\n",
      "Attribute 124000 created\n",
      "Attribute 8 created\n",
      "{'name': 'PDEU', 'fees': 124000, 'sem': 8}\n",
      "{'__module__': '__main__', 'location': 'India', '__init__': <function college.__init__ at 0x000001EF41DC1440>, 'calculateTotalFees': <function college.calculateTotalFees at 0x000001EF41DC1120>, '__dict__': <attribute '__dict__' of 'college' objects>, '__weakref__': <attribute '__weakref__' of 'college' objects>, '__doc__': None}\n"
     ]
    }
   ],
   "source": [
    "# lets create an instance object for our class\n",
    "my_college = college(\"PDEU\", 124000, 8)\n",
    "\n",
    "# lets call all varaibles inside the instance of class\n",
    "print(my_college.__dict__)\n",
    "\n",
    "# lets call all vairables inside the class itself\n",
    "print(college.__dict__)\n"
   ]
  },
  {
   "cell_type": "markdown",
   "metadata": {},
   "source": [
    "So we will find the class vairable location only in the class level. But here is a catch. I can access location from the instance object as well even though it doesn't have the variable in its scope!\n",
    "\n",
    "Here how it goes. Whenever i call that attribute or method on my object *my_college*, it tries to find it inside its scope! If it doesn't find, it goes back to the class level and check if there is any!\n",
    "\n",
    "So essentialy, thing to note is, class varaibles are global and can be overridden inside a method or object instance. If i redefine the location varaible to 'USA' inside our method, the below code will reflect 'USA' instead of the original 'India'"
   ]
  },
  {
   "cell_type": "code",
   "execution_count": 54,
   "metadata": {
    "execution": {
     "iopub.execute_input": "2024-03-29T23:50:15.118532Z",
     "iopub.status.busy": "2024-03-29T23:50:15.118024Z",
     "iopub.status.idle": "2024-03-29T23:50:15.124975Z",
     "shell.execute_reply": "2024-03-29T23:50:15.123647Z",
     "shell.execute_reply.started": "2024-03-29T23:50:15.118489Z"
    },
    "trusted": true
   },
   "outputs": [
    {
     "name": "stdout",
     "output_type": "stream",
     "text": [
      "India\n"
     ]
    }
   ],
   "source": [
    "# call the class varaible through object\n",
    "print(my_college.location)"
   ]
  },
  {
   "cell_type": "code",
   "execution_count": 55,
   "metadata": {
    "execution": {
     "iopub.execute_input": "2024-03-29T23:50:16.824639Z",
     "iopub.status.busy": "2024-03-29T23:50:16.824202Z",
     "iopub.status.idle": "2024-03-29T23:50:16.831933Z",
     "shell.execute_reply": "2024-03-29T23:50:16.830340Z",
     "shell.execute_reply.started": "2024-03-29T23:50:16.824604Z"
    },
    "trusted": true
   },
   "outputs": [
    {
     "name": "stdout",
     "output_type": "stream",
     "text": [
      "Bharat\n",
      "India\n"
     ]
    }
   ],
   "source": [
    "# Override the class variable with instance attribute\n",
    "my_college.location = 'Bharat'\n",
    "# lets print the instance level attribute location\n",
    "print(my_college.location)\n",
    "# Lets print the class level attribute location\n",
    "print(college.location)"
   ]
  },
  {
   "cell_type": "markdown",
   "metadata": {},
   "source": [
    "# Create multiple instance of objects \n",
    "and store them all in a list through class"
   ]
  },
  {
   "cell_type": "code",
   "execution_count": 56,
   "metadata": {
    "execution": {
     "iopub.execute_input": "2024-03-29T23:50:18.308464Z",
     "iopub.status.busy": "2024-03-29T23:50:18.307944Z",
     "iopub.status.idle": "2024-03-29T23:50:18.317614Z",
     "shell.execute_reply": "2024-03-29T23:50:18.315989Z",
     "shell.execute_reply.started": "2024-03-29T23:50:18.308424Z"
    },
    "trusted": true
   },
   "outputs": [],
   "source": [
    "# the above thing was time consuming and a lot hard code oriented. Lets make that easy\n",
    "# Redefine college class\n",
    "class college:\n",
    "    \n",
    "    # Define class attributes\n",
    "    location = \"India\"\n",
    "    \n",
    "    # special attribute all\n",
    "    all = []\n",
    "    \n",
    "    # Create our magic method\n",
    "    def __init__(self, name: str, fees: float, sem: int):\n",
    "        \n",
    "        # Run validations\n",
    "        assert fees >= 0, f'expected non-negative, recieved {fees}'\n",
    "        assert sem >= 0, f'expected non-negative, recieved {sem}'\n",
    "        \n",
    "        # Assign to self object\n",
    "        # my_college.name = 'PDEU'\n",
    "        self.name = name\n",
    "        print(f'Attribute {name} created')\n",
    "        \n",
    "        # my_college.fees = 124000\n",
    "        self.fees = fees\n",
    "        print(f'Attribute {fees} created')\n",
    "        \n",
    "        # my_college.sem = 8\n",
    "        self.sem = sem\n",
    "        print(f'Attribute {sem} created\\n')\n",
    "    \n",
    "        # store all instances\n",
    "        college.all.append(self)\n",
    "\n",
    "          \n",
    "    def calculateTotalFees(self, scholarship=0):\n",
    "        temp = self.fees*self.sem-scholarship\n",
    "        return temp\n",
    "    \n",
    "    # another magic method __repr\n",
    "    def __repr__(self):\n",
    "        return f'college(\"{self.name}\", {self.fees}, {self.sem})'"
   ]
  },
  {
   "cell_type": "code",
   "execution_count": 57,
   "metadata": {
    "execution": {
     "iopub.execute_input": "2024-03-29T23:50:19.539863Z",
     "iopub.status.busy": "2024-03-29T23:50:19.539446Z",
     "iopub.status.idle": "2024-03-29T23:50:19.547664Z",
     "shell.execute_reply": "2024-03-29T23:50:19.546357Z",
     "shell.execute_reply.started": "2024-03-29T23:50:19.539831Z"
    },
    "trusted": true
   },
   "outputs": [
    {
     "name": "stdout",
     "output_type": "stream",
     "text": [
      "Attribute PDEU created\n",
      "Attribute 124000 created\n",
      "Attribute 8 created\n",
      "\n",
      "Attribute USC created\n",
      "Attribute 1660000 created\n",
      "Attribute 4 created\n",
      "\n",
      "Attribute NIRMA created\n",
      "Attribute 102500 created\n",
      "Attribute 8 created\n",
      "\n",
      "Attribute GT created\n",
      "Attribute 1000000 created\n",
      "Attribute 4 created\n",
      "\n",
      "[college(\"PDEU\", 124000, 8), college(\"USC\", 1660000, 4), college(\"NIRMA\", 102500, 8), college(\"GT\", 1000000, 4)]\n",
      "4\n"
     ]
    }
   ],
   "source": [
    "# now lets create multiple instance objects\n",
    "my_college = college(\"PDEU\", 124000, 8)\n",
    "my_masters = college(\"USC\", 1660000, 4)\n",
    "near_college = college(\"NIRMA\", 102500, 8)\n",
    "dream_college = college(\"GT\", 1000000, 4)\n",
    "print(college.all)\n",
    "print(len(college.all))"
   ]
  },
  {
   "cell_type": "markdown",
   "metadata": {},
   "source": [
    "# Class methods"
   ]
  },
  {
   "cell_type": "markdown",
   "metadata": {},
   "source": [
    "We use class methods when we have a function that has to be connected to the class and need to manipulate the structures inside it, like initiate objects."
   ]
  },
  {
   "cell_type": "code",
   "execution_count": 60,
   "metadata": {
    "execution": {
     "iopub.execute_input": "2024-03-29T23:50:21.664529Z",
     "iopub.status.busy": "2024-03-29T23:50:21.663280Z",
     "iopub.status.idle": "2024-03-29T23:50:21.675373Z",
     "shell.execute_reply": "2024-03-29T23:50:21.674224Z",
     "shell.execute_reply.started": "2024-03-29T23:50:21.664483Z"
    },
    "trusted": true
   },
   "outputs": [],
   "source": [
    "import csv # library that will read csv\n",
    "\n",
    "# the above thing was time consuming and a lot hard code oriented. Lets make that easy\n",
    "# Redefine college class\n",
    "class college:\n",
    "    \n",
    "    # Define class attributes\n",
    "    location = \"India\"\n",
    "    \n",
    "    # special attribute all\n",
    "    all = []\n",
    "    \n",
    "    # Create our magic method\n",
    "    def __init__(self, name: str, fees: float, sem: int):\n",
    "        \n",
    "        # Run validations\n",
    "        assert fees >= 0, f'expected non-negative, recieved {fees}'\n",
    "        assert sem >= 0, f'expected non-negative, recieved {sem}'\n",
    "        \n",
    "        # Assign to self object\n",
    "        # my_college.name = 'PDEU'\n",
    "        self.name = name\n",
    "        print(f'Attribute {name} created')\n",
    "        \n",
    "        # my_college.fees = 124000\n",
    "        self.fees = fees\n",
    "        print(f'Attribute {fees} created')\n",
    "        \n",
    "        # my_college.sem = 8\n",
    "        self.sem = sem\n",
    "        print(f'Attribute {sem} created\\n')\n",
    "    \n",
    "        # store all instances\n",
    "        college.all.append(self)\n",
    "\n",
    "          \n",
    "    def calculateTotalFees(self, scholarship=0):\n",
    "        temp = self.fees*self.sem-scholarship\n",
    "        return temp\n",
    "    \n",
    "    #decorator = quick way to redfine the behaviour of calling the method after it.\n",
    "    @classmethod\n",
    "    # when we call class method, the class itself is passed instead of instance\n",
    "    def readCSV(cls):\n",
    "        # Change the path to your file\n",
    "        with open('..\\Data\\College_dataset.csv', 'r') as file:\n",
    "            reader = csv.DictReader(file)\n",
    "            my_list = list(reader)\n",
    "            \n",
    "        for element in my_list:\n",
    "            college(\n",
    "                name=element.get('name'),\n",
    "                fees=float(element.get('fees')),\n",
    "                sem=int(element.get('sem'))\n",
    "            )\n",
    "            \n",
    "    # another magic method __repr\n",
    "    def __repr__(self):\n",
    "        return f'college(\"{self.name}\", {self.fees}, {self.sem})'"
   ]
  },
  {
   "cell_type": "code",
   "execution_count": 61,
   "metadata": {
    "execution": {
     "iopub.execute_input": "2024-03-29T23:50:22.668671Z",
     "iopub.status.busy": "2024-03-29T23:50:22.667951Z",
     "iopub.status.idle": "2024-03-29T23:50:22.680549Z",
     "shell.execute_reply": "2024-03-29T23:50:22.679455Z",
     "shell.execute_reply.started": "2024-03-29T23:50:22.668621Z"
    },
    "trusted": true
   },
   "outputs": [
    {
     "name": "stdout",
     "output_type": "stream",
     "text": [
      "Attribute PDEU created\n",
      "Attribute 124000.0 created\n",
      "Attribute 8 created\n",
      "\n",
      "Attribute USC created\n",
      "Attribute 1660000.0 created\n",
      "Attribute 4 created\n",
      "\n",
      "Attribute NIRMA created\n",
      "Attribute 102500.0 created\n",
      "Attribute 8 created\n",
      "\n",
      "Attribute GT created\n",
      "Attribute 1000000.0 created\n",
      "Attribute 4 created\n",
      "\n",
      "[college(\"PDEU\", 124000.0, 8), college(\"USC\", 1660000.0, 4), college(\"NIRMA\", 102500.0, 8), college(\"GT\", 1000000.0, 4)]\n"
     ]
    }
   ],
   "source": [
    "college.readCSV()\n",
    "print(college.all)"
   ]
  },
  {
   "cell_type": "markdown",
   "metadata": {},
   "source": [
    "# Static Method"
   ]
  },
  {
   "cell_type": "markdown",
   "metadata": {},
   "source": [
    "We use static method when we want to do something that is connected to the class, but is not unqiue to an instance."
   ]
  },
  {
   "cell_type": "code",
   "execution_count": 62,
   "metadata": {
    "execution": {
     "iopub.execute_input": "2024-03-29T23:50:24.397877Z",
     "iopub.status.busy": "2024-03-29T23:50:24.397436Z",
     "iopub.status.idle": "2024-03-29T23:50:24.411883Z",
     "shell.execute_reply": "2024-03-29T23:50:24.410682Z",
     "shell.execute_reply.started": "2024-03-29T23:50:24.397846Z"
    },
    "trusted": true
   },
   "outputs": [],
   "source": [
    "import csv # library that will read csv\n",
    "\n",
    "# the above thing was time consuming and a lot hard code oriented. Lets make that easy\n",
    "# Redefine college class\n",
    "class college:\n",
    "    \n",
    "    # Define class attributes\n",
    "    location = \"India\"\n",
    "    \n",
    "    # special attribute all\n",
    "    all = []\n",
    "    \n",
    "    # Create our magic method\n",
    "    def __init__(self, name: str, fees: float, sem: int):\n",
    "        \n",
    "        # Run validations\n",
    "        assert fees >= 0, f'expected non-negative, recieved {fees}'\n",
    "        assert sem >= 0, f'expected non-negative, recieved {sem}'\n",
    "        \n",
    "        # Assign to self object\n",
    "        # my_college.name = 'PDEU'\n",
    "        self.name = name\n",
    "        print(f'Attribute {name} created')\n",
    "        \n",
    "        # my_college.fees = 124000\n",
    "        self.fees = fees\n",
    "        print(f'Attribute {fees} created')\n",
    "        \n",
    "        # my_college.sem = 8\n",
    "        self.sem = sem\n",
    "        print(f'Attribute {sem} created\\n')\n",
    "    \n",
    "        # store all instances\n",
    "        college.all.append(self)\n",
    "\n",
    "          \n",
    "    def calculateTotalFees(self, scholarship=0):\n",
    "        temp = self.fees*self.sem-scholarship\n",
    "        return temp\n",
    "    \n",
    "    # class method\n",
    "    @classmethod\n",
    "    def readCSV(cls):\n",
    "        # Change the path to your file\n",
    "        with open('/kaggle/input/dummy-data/data.csv', 'r') as file:\n",
    "            reader = csv.DictReader(file)\n",
    "            my_list = list(reader)\n",
    "            \n",
    "        for element in my_list:\n",
    "            college(\n",
    "                name=element.get('name'),\n",
    "                fees=float(element.get('fees')),\n",
    "                sem=int(element.get('sem'))\n",
    "            )\n",
    "    \n",
    "    # define static method\n",
    "    @staticmethod\n",
    "    # static do not need any instance or class as argument\n",
    "    def is_integer(x):\n",
    "        # built in function that checks passed argument of x is an instance of float type\n",
    "        if isinstance(x, float):\n",
    "            # call the function again that checks passed argument of x is an integer\n",
    "            return x.is_integer()\n",
    "        # built in function that checks passed argument of x is an instance of float type\n",
    "        elif isinstance(x, int):\n",
    "            return True\n",
    "        # return false for any other variable type\n",
    "        else:\n",
    "            return False\n",
    "        \n",
    "    # another magic method __repr\n",
    "    def __repr__(self):\n",
    "        return f'college(\"{self.name}\", {self.fees}, {self.sem})'"
   ]
  },
  {
   "cell_type": "code",
   "execution_count": 63,
   "metadata": {
    "execution": {
     "iopub.execute_input": "2024-03-29T23:50:25.302707Z",
     "iopub.status.busy": "2024-03-29T23:50:25.302264Z",
     "iopub.status.idle": "2024-03-29T23:50:25.309636Z",
     "shell.execute_reply": "2024-03-29T23:50:25.308412Z",
     "shell.execute_reply.started": "2024-03-29T23:50:25.302676Z"
    },
    "trusted": true
   },
   "outputs": [
    {
     "name": "stdout",
     "output_type": "stream",
     "text": [
      "True\n",
      "False\n"
     ]
    }
   ],
   "source": [
    "print(college.is_integer(15))\n",
    "print(college.is_integer(15.7))\n"
   ]
  },
  {
   "cell_type": "markdown",
   "metadata": {},
   "source": [
    "# Inheritance"
   ]
  },
  {
   "cell_type": "code",
   "execution_count": 64,
   "metadata": {
    "execution": {
     "iopub.execute_input": "2024-03-29T23:50:26.966006Z",
     "iopub.status.busy": "2024-03-29T23:50:26.965551Z",
     "iopub.status.idle": "2024-03-29T23:50:26.979727Z",
     "shell.execute_reply": "2024-03-29T23:50:26.978739Z",
     "shell.execute_reply.started": "2024-03-29T23:50:26.965967Z"
    },
    "trusted": true
   },
   "outputs": [],
   "source": [
    "import csv # library that will read csv\n",
    "\n",
    "# the above thing was time consuming and a lot hard code oriented. Lets make that easy\n",
    "# Redefine college class\n",
    "class college:\n",
    "    \n",
    "    # Define class attributes\n",
    "    location = \"India\"\n",
    "    \n",
    "    # special attribute all\n",
    "    all = []\n",
    "    \n",
    "    # Create our magic method\n",
    "    def __init__(self, name: str, fees: float, sem: int):\n",
    "        \n",
    "        # Run validations\n",
    "        assert fees >= 0, f'expected non-negative, recieved {fees}'\n",
    "        assert sem >= 0, f'expected non-negative, recieved {sem}'\n",
    "        \n",
    "        # Assign to self object\n",
    "        # my_college.name = 'PDEU'\n",
    "        self.name = name\n",
    "        print(f'Attribute {name} created')\n",
    "        \n",
    "        # my_college.fees = 124000\n",
    "        self.fees = fees\n",
    "        print(f'Attribute {fees} created')\n",
    "        \n",
    "        # my_college.sem = 8\n",
    "        self.sem = sem\n",
    "        print(f'Attribute {sem} created')\n",
    "    \n",
    "        # store all instances\n",
    "        college.all.append(self)\n",
    "\n",
    "    # and here come inheritance into play! I can call this method of college class without mentioning college class through one of his children\n",
    "    def calculateTotalFees(self, scholarship):\n",
    "        temp = (self.fees*self.sem)-scholarship\n",
    "        return temp\n",
    "    \n",
    "    # class method\n",
    "    @classmethod\n",
    "    def readCSV(cls):\n",
    "        # Change the path to your file\n",
    "        with open('/kaggle/input/dummy-data/data.csv', 'r') as file:\n",
    "            reader = csv.DictReader(file)\n",
    "            my_list = list(reader)\n",
    "            \n",
    "        for element in my_list:\n",
    "            college(\n",
    "                name=element.get('name'),\n",
    "                fees=float(element.get('fees')),\n",
    "                sem=int(element.get('sem'))\n",
    "            )\n",
    "    \n",
    "    # define static method\n",
    "    @staticmethod\n",
    "    # static do not need any instance or class as argument\n",
    "    def is_integer(x):\n",
    "        # built in function that checks passed argument of x is an instance of float type\n",
    "        if isinstance(x, float):\n",
    "            # call the function again that checks passed argument of x is an integer\n",
    "            return x.is_integer()\n",
    "        # built in function that checks passed argument of x is an instance of float type\n",
    "        elif isinstance(x, int):\n",
    "            return True\n",
    "        # return false for any other variable type\n",
    "        else:\n",
    "            return False\n",
    "        \n",
    "    # another magic method __repr__\n",
    "    # with __class__.__name__\n",
    "    def __repr__(self):\n",
    "        return f'{__class__.__name__}(\"{self.name}\", {self.fees}, {self.sem})'"
   ]
  },
  {
   "cell_type": "code",
   "execution_count": 65,
   "metadata": {
    "execution": {
     "iopub.execute_input": "2024-03-29T23:50:27.899221Z",
     "iopub.status.busy": "2024-03-29T23:50:27.898462Z",
     "iopub.status.idle": "2024-03-29T23:50:27.907669Z",
     "shell.execute_reply": "2024-03-29T23:50:27.906105Z",
     "shell.execute_reply.started": "2024-03-29T23:50:27.899171Z"
    },
    "trusted": true
   },
   "outputs": [],
   "source": [
    "# Define child class\n",
    "class Scholarship(college):\n",
    "    \n",
    "    all = []\n",
    "    \n",
    "    # define constructor\n",
    "    def __init__(self, name: str, fees: float, sem: int, scholarship=0):\n",
    "        # special function enables us to access all attributes of parent class\n",
    "        super().__init__(name, fees, sem)\n",
    "        # Run validations\n",
    "        assert scholarship >= 0, f'expected non-negative, recieved {scholarship}'\n",
    "\n",
    "        # Assign to self object\n",
    "        # my_college.scholarship = 2000\n",
    "        self.scholarship = scholarship\n",
    "        print(f'Attribute {scholarship} created')\n",
    "\n",
    "        # store all instances\n",
    "        Scholarship.all.append(self)"
   ]
  },
  {
   "cell_type": "code",
   "execution_count": 66,
   "metadata": {
    "execution": {
     "iopub.execute_input": "2024-03-29T23:50:28.921669Z",
     "iopub.status.busy": "2024-03-29T23:50:28.921195Z",
     "iopub.status.idle": "2024-03-29T23:50:28.928539Z",
     "shell.execute_reply": "2024-03-29T23:50:28.927205Z",
     "shell.execute_reply.started": "2024-03-29T23:50:28.921631Z"
    },
    "trusted": true
   },
   "outputs": [
    {
     "name": "stdout",
     "output_type": "stream",
     "text": [
      "Attribute PDEU created\n",
      "Attribute 124000 created\n",
      "Attribute 8 created\n",
      "Attribute USC created\n",
      "Attribute 1660000 created\n",
      "Attribute 4 created\n"
     ]
    }
   ],
   "source": [
    "# create two instance of our class\n",
    "# this will definetely not give error\n",
    "my_college = college(\"PDEU\", 124000, 8)\n",
    "my_masters = college(\"USC\", 1660000, 4)"
   ]
  },
  {
   "cell_type": "code",
   "execution_count": 67,
   "metadata": {
    "execution": {
     "iopub.execute_input": "2024-03-29T23:50:31.137896Z",
     "iopub.status.busy": "2024-03-29T23:50:31.137485Z",
     "iopub.status.idle": "2024-03-29T23:50:31.145694Z",
     "shell.execute_reply": "2024-03-29T23:50:31.144397Z",
     "shell.execute_reply.started": "2024-03-29T23:50:31.137867Z"
    },
    "trusted": true
   },
   "outputs": [
    {
     "name": "stdout",
     "output_type": "stream",
     "text": [
      "Attribute PDEU created\n",
      "Attribute 124000 created\n",
      "Attribute 8 created\n",
      "Attribute 20000 created\n",
      "972000\n",
      "Attribute USC created\n",
      "Attribute 1660000 created\n",
      "Attribute 4 created\n",
      "Attribute 249000 created\n",
      "6391000\n"
     ]
    }
   ],
   "source": [
    "# create two instance of our class\n",
    "# netiher will this \n",
    "my_college = Scholarship(\"PDEU\", 124000, 8, 20000)\n",
    "print(my_college.calculateTotalFees(my_college.scholarship))\n",
    "my_masters = Scholarship(\"USC\", 1660000, 4, 249000)\n",
    "print(my_masters.calculateTotalFees(my_masters.scholarship))"
   ]
  },
  {
   "cell_type": "markdown",
   "metadata": {},
   "source": [
    "# Read only attribute / Encapsulation\n",
    "like private attribute if anyone knows about them"
   ]
  },
  {
   "cell_type": "code",
   "execution_count": 68,
   "metadata": {
    "execution": {
     "iopub.execute_input": "2024-03-30T01:37:58.031277Z",
     "iopub.status.busy": "2024-03-30T01:37:58.030825Z",
     "iopub.status.idle": "2024-03-30T01:37:58.047704Z",
     "shell.execute_reply": "2024-03-30T01:37:58.046095Z",
     "shell.execute_reply.started": "2024-03-30T01:37:58.031238Z"
    },
    "trusted": true
   },
   "outputs": [],
   "source": [
    "import csv # library that will read csv\n",
    "\n",
    "# the above thing was time consuming and a lot hard code oriented. Lets make that easy\n",
    "# Redefine college class\n",
    "class college:\n",
    "    \n",
    "    # Define class attributes\n",
    "    location = \"India\"\n",
    "    \n",
    "    # special attribute all\n",
    "    all = []\n",
    "    \n",
    "    # Create our magic method\n",
    "    def __init__(self, name: str, fees: float, sem: int):\n",
    "        \n",
    "        # Run validations\n",
    "        assert fees >= 0, f'expected non-negative, recieved {fees}'\n",
    "        assert sem >= 0, f'expected non-negative, recieved {sem}'\n",
    "        \n",
    "        # Assign to self object\n",
    "        # my_college.name = 'PDEU'\n",
    "        self.name = name\n",
    "        print(f'Attribute {name} created')\n",
    "        \n",
    "        # my_college.fees = 124000\n",
    "        self.fees = fees\n",
    "        print(f'Attribute {fees} created')\n",
    "        \n",
    "        # my_college.sem = 8\n",
    "        self.sem = sem\n",
    "        print(f'Attribute {sem} created')\n",
    "    \n",
    "        # store all instances\n",
    "        college.all.append(self)\n",
    "\n",
    "    # and here come inheritance into play! I can call this method of college class without mentioning college class through one of his children\n",
    "    def calculateTotalFees(self, scholarship):\n",
    "        temp = (self.fees*self.sem)-scholarship\n",
    "        return temp\n",
    "    \n",
    "    # class method\n",
    "    @classmethod\n",
    "    def readCSV(cls):\n",
    "        # Change the path to your file\n",
    "        with open('/kaggle/input/dummy-data/data.csv', 'r') as file:\n",
    "            reader = csv.DictReader(file)\n",
    "            my_list = list(reader)\n",
    "            \n",
    "        for element in my_list:\n",
    "            college(\n",
    "                name=element.get('name'),\n",
    "                fees=float(element.get('fees')),\n",
    "                sem=int(element.get('sem'))\n",
    "            )\n",
    "    \n",
    "    # define static method\n",
    "    @staticmethod\n",
    "    # static do not need any instance or class as argument\n",
    "    def is_integer(x):\n",
    "        # built in function that checks passed argument of x is an instance of float type\n",
    "        if isinstance(x, float):\n",
    "            # call the function again that checks passed argument of x is an integer\n",
    "            return x.is_integer()\n",
    "        # built in function that checks passed argument of x is an instance of float type\n",
    "        elif isinstance(x, int):\n",
    "            return True\n",
    "        # return false for any other variable type\n",
    "        else:\n",
    "            return False\n",
    "        \n",
    "    # another magic method __repr__\n",
    "    # with __class__.__name__\n",
    "    def __repr__(self):\n",
    "        return f'{__class__.__name__}(\"{self.name}\", {self.fees}, {self.sem})'\n",
    "    \n",
    "    # a read only usage for variables being returned\n",
    "    @property\n",
    "    def readOnlyAttribute(self):\n",
    "        return \"Best College\""
   ]
  },
  {
   "cell_type": "code",
   "execution_count": 69,
   "metadata": {
    "execution": {
     "iopub.execute_input": "2024-03-30T01:38:02.477580Z",
     "iopub.status.busy": "2024-03-30T01:38:02.477131Z",
     "iopub.status.idle": "2024-03-30T01:38:02.487055Z",
     "shell.execute_reply": "2024-03-30T01:38:02.485386Z",
     "shell.execute_reply.started": "2024-03-30T01:38:02.477545Z"
    },
    "trusted": true
   },
   "outputs": [
    {
     "name": "stdout",
     "output_type": "stream",
     "text": [
      "Attribute PDEU created\n",
      "Attribute 124000 created\n",
      "Attribute 8 created\n",
      "Best College\n"
     ]
    }
   ],
   "source": [
    "# Create the object\n",
    "my_college = college(\"PDEU\", 124000, 8)\n",
    "print(my_college.readOnlyAttribute)"
   ]
  },
  {
   "cell_type": "code",
   "execution_count": 70,
   "metadata": {
    "execution": {
     "iopub.execute_input": "2024-03-30T01:38:10.831904Z",
     "iopub.status.busy": "2024-03-30T01:38:10.831470Z",
     "iopub.status.idle": "2024-03-30T01:38:11.128088Z",
     "shell.execute_reply": "2024-03-30T01:38:11.126443Z",
     "shell.execute_reply.started": "2024-03-30T01:38:10.831873Z"
    },
    "trusted": true
   },
   "outputs": [
    {
     "ename": "AttributeError",
     "evalue": "property 'readOnlyAttribute' of 'college' object has no setter",
     "output_type": "error",
     "traceback": [
      "\u001b[1;31m---------------------------------------------------------------------------\u001b[0m",
      "\u001b[1;31mAttributeError\u001b[0m                            Traceback (most recent call last)",
      "Cell \u001b[1;32mIn[70], line 1\u001b[0m\n\u001b[1;32m----> 1\u001b[0m \u001b[43mmy_college\u001b[49m\u001b[38;5;241;43m.\u001b[39;49m\u001b[43mreadOnlyAttribute\u001b[49m \u001b[38;5;241m=\u001b[39m \u001b[38;5;124m'\u001b[39m\u001b[38;5;124mNot the best college\u001b[39m\u001b[38;5;124m'\u001b[39m\n",
      "\u001b[1;31mAttributeError\u001b[0m: property 'readOnlyAttribute' of 'college' object has no setter"
     ]
    }
   ],
   "source": [
    "my_college.readOnlyAttribute = 'Not the best college'"
   ]
  },
  {
   "cell_type": "code",
   "execution_count": 71,
   "metadata": {
    "execution": {
     "iopub.execute_input": "2024-03-30T02:05:28.430323Z",
     "iopub.status.busy": "2024-03-30T02:05:28.429690Z",
     "iopub.status.idle": "2024-03-30T02:05:28.444553Z",
     "shell.execute_reply": "2024-03-30T02:05:28.443627Z",
     "shell.execute_reply.started": "2024-03-30T02:05:28.430282Z"
    },
    "trusted": true
   },
   "outputs": [],
   "source": [
    "import csv # library that will read csv\n",
    "\n",
    "# the above thing was time consuming and a lot hard code oriented. Lets make that easy\n",
    "# Redefine college class\n",
    "class college:\n",
    "    \n",
    "    # Define class attributes\n",
    "    location = \"India\"\n",
    "    \n",
    "    # special attribute all\n",
    "    all = []\n",
    "    \n",
    "    # Create our magic method\n",
    "    def __init__(self, name: str, fees: float, sem: int):\n",
    "        \n",
    "        # Run validations\n",
    "        assert fees >= 0, f'expected non-negative, recieved {fees}'\n",
    "        assert sem >= 0, f'expected non-negative, recieved {sem}'\n",
    "        \n",
    "        # Assign to self object\n",
    "        # my_college.name = 'PDEU'\n",
    "        # if i had done without the _ in nmae, my own property function would restrict me to execute below line\n",
    "        # by using _ we differentiate the two things and still have the same instance\n",
    "        self._name = name\n",
    "        print(f'Attribute {name} created')\n",
    "        \n",
    "        # my_college.fees = 124000\n",
    "        self.fees = fees\n",
    "        print(f'Attribute {fees} created')\n",
    "        \n",
    "        # my_college.sem = 8\n",
    "        self.sem = sem\n",
    "        print(f'Attribute {sem} created')\n",
    "    \n",
    "        # store all instances\n",
    "        college.all.append(self)\n",
    "    \n",
    "    # convert the name attribute into read only\n",
    "    @property\n",
    "    def name(self):\n",
    "        return self._name\n",
    "    \n",
    "    # and here come inheritance into play! I can call this method of college class without mentioning college class through one of his children\n",
    "    def calculateTotalFees(self, scholarship):\n",
    "        temp = (self.fees*self.sem)-scholarship\n",
    "        return temp\n",
    "    \n",
    "    # class method\n",
    "    @classmethod\n",
    "    def readCSV(cls):\n",
    "        # Change the path to your file\n",
    "        with open('/kaggle/input/dummy-data/data.csv', 'r') as file:\n",
    "            reader = csv.DictReader(file)\n",
    "            my_list = list(reader)\n",
    "            \n",
    "        for element in my_list:\n",
    "            college(\n",
    "                name=element.get('name'),\n",
    "                fees=float(element.get('fees')),\n",
    "                sem=int(element.get('sem'))\n",
    "            )\n",
    "    \n",
    "    # define static method\n",
    "    @staticmethod\n",
    "    # static do not need any instance or class as argument\n",
    "    def is_integer(x):\n",
    "        # built in function that checks passed argument of x is an instance of float type\n",
    "        if isinstance(x, float):\n",
    "            # call the function again that checks passed argument of x is an integer\n",
    "            return x.is_integer()\n",
    "        # built in function that checks passed argument of x is an instance of float type\n",
    "        elif isinstance(x, int):\n",
    "            return True\n",
    "        # return false for any other variable type\n",
    "        else:\n",
    "            return False\n",
    "        \n",
    "    # another magic method __repr__\n",
    "    # with __class__.__name__\n",
    "    def __repr__(self):\n",
    "        return f'{__class__.__name__}(\"{self.name}\", {self.fees}, {self.sem})'\n",
    "    \n",
    "    # a read only usage for variables being returned\n",
    "#     @property\n",
    "#     def readOnlyAttribute(self):\n",
    "#         return\"Best College\""
   ]
  },
  {
   "cell_type": "code",
   "execution_count": 72,
   "metadata": {
    "execution": {
     "iopub.execute_input": "2024-03-30T02:09:15.668365Z",
     "iopub.status.busy": "2024-03-30T02:09:15.667684Z",
     "iopub.status.idle": "2024-03-30T02:09:15.676208Z",
     "shell.execute_reply": "2024-03-30T02:09:15.674856Z",
     "shell.execute_reply.started": "2024-03-30T02:09:15.668330Z"
    },
    "trusted": true
   },
   "outputs": [
    {
     "name": "stdout",
     "output_type": "stream",
     "text": [
      "Attribute PDEU created\n",
      "Attribute 124000 created\n",
      "Attribute 8 created\n"
     ]
    }
   ],
   "source": [
    "# Create the object\n",
    "my_college = college(\"PDEU\", 124000, 8)"
   ]
  },
  {
   "cell_type": "code",
   "execution_count": 73,
   "metadata": {
    "execution": {
     "iopub.execute_input": "2024-03-30T02:09:19.618888Z",
     "iopub.status.busy": "2024-03-30T02:09:19.618204Z",
     "iopub.status.idle": "2024-03-30T02:09:19.644141Z",
     "shell.execute_reply": "2024-03-30T02:09:19.642027Z",
     "shell.execute_reply.started": "2024-03-30T02:09:19.618853Z"
    },
    "trusted": true
   },
   "outputs": [
    {
     "ename": "AttributeError",
     "evalue": "property 'name' of 'college' object has no setter",
     "output_type": "error",
     "traceback": [
      "\u001b[1;31m---------------------------------------------------------------------------\u001b[0m",
      "\u001b[1;31mAttributeError\u001b[0m                            Traceback (most recent call last)",
      "Cell \u001b[1;32mIn[73], line 1\u001b[0m\n\u001b[1;32m----> 1\u001b[0m \u001b[43mmy_college\u001b[49m\u001b[38;5;241;43m.\u001b[39;49m\u001b[43mname\u001b[49m \u001b[38;5;241m=\u001b[39m \u001b[38;5;124m'\u001b[39m\u001b[38;5;124mPDPU\u001b[39m\u001b[38;5;124m'\u001b[39m \n",
      "\u001b[1;31mAttributeError\u001b[0m: property 'name' of 'college' object has no setter"
     ]
    }
   ],
   "source": [
    "my_college.name = 'PDPU' "
   ]
  },
  {
   "cell_type": "markdown",
   "metadata": {},
   "source": [
    "If you add one more underscore before name, it becomes totally inaccessible outside the class definiation.\n",
    "\n",
    "Btw you can still change the variable name even after all these things we did to ensure it never changes. It is done through another property called **@<>.setter**"
   ]
  },
  {
   "cell_type": "markdown",
   "metadata": {},
   "source": [
    "# Encapsulation\n",
    "Restrict direct access of some variables while addind in conditions for the attributes"
   ]
  },
  {
   "cell_type": "code",
   "execution_count": 74,
   "metadata": {
    "execution": {
     "iopub.execute_input": "2024-03-30T05:45:23.073900Z",
     "iopub.status.busy": "2024-03-30T05:45:23.073501Z",
     "iopub.status.idle": "2024-03-30T05:45:23.088902Z",
     "shell.execute_reply": "2024-03-30T05:45:23.088022Z",
     "shell.execute_reply.started": "2024-03-30T05:45:23.073867Z"
    },
    "trusted": true
   },
   "outputs": [],
   "source": [
    "import csv # library that will read csv\n",
    "\n",
    "# the above thing was time consuming and a lot hard code oriented. Lets make that easy\n",
    "# Redefine college class\n",
    "class college:\n",
    "    \n",
    "    # Define class attributes\n",
    "    location = \"India\"\n",
    "    \n",
    "    # special attribute all\n",
    "    all = []\n",
    "    \n",
    "    # Create our magic method\n",
    "    def __init__(self, name: str, fees: float, sem: int):\n",
    "        \n",
    "        # Run validations\n",
    "        assert fees >= 0, f'expected non-negative, recieved {fees}'\n",
    "        assert sem >= 0, f'expected non-negative, recieved {sem}'\n",
    "        \n",
    "        # Assign to self object\n",
    "        # my_college.name = 'PDEU'\n",
    "        # if i had done without the _ in nmae, my own property function would restrict me to execute below line\n",
    "        # by using _ we differentiate the two things and still have the same instance\n",
    "        self.__name = name\n",
    "        print(f'Attribute {name} created')\n",
    "        \n",
    "        # my_college.fees = 124000\n",
    "        self.fees = fees\n",
    "        print(f'Attribute {fees} created')\n",
    "        \n",
    "        # my_college.sem = 8\n",
    "        self.sem = sem\n",
    "        print(f'Attribute {sem} created')\n",
    "    \n",
    "        # store all instances\n",
    "        college.all.append(self)\n",
    "    \n",
    "    # convert the name attribute into read only\n",
    "    @property\n",
    "    def name(self):\n",
    "        return self.__name\n",
    "    \n",
    "    @name.setter\n",
    "    def name(self,value):\n",
    "        if len(value) > 10:\n",
    "            raise Exception(\"Shorten the name\")\n",
    "        else:\n",
    "            self.__name = value\n",
    "            \n",
    "    # and here come inheritance into play! I can call this method of college class without mentioning college class through one of his children\n",
    "    def calculateTotalFees(self, scholarship):\n",
    "        temp = (self.fees*self.sem)-scholarship\n",
    "        return temp\n",
    "    \n",
    "    # class method\n",
    "    @classmethod\n",
    "    def readCSV(cls):\n",
    "        # Change the path to your file\n",
    "        with open('/kaggle/input/dummy-data/data.csv', 'r') as file:\n",
    "            reader = csv.DictReader(file)\n",
    "            my_list = list(reader)\n",
    "            \n",
    "        for element in my_list:\n",
    "            college(\n",
    "                name=element.get('name'),\n",
    "                fees=float(element.get('fees')),\n",
    "                sem=int(element.get('sem'))\n",
    "            )\n",
    "    \n",
    "    # define static method\n",
    "    @staticmethod\n",
    "    # static do not need any instance or class as argument\n",
    "    def is_integer(x):\n",
    "        # built in function that checks passed argument of x is an instance of float type\n",
    "        if isinstance(x, float):\n",
    "            # call the function again that checks passed argument of x is an integer\n",
    "            return x.is_integer()\n",
    "        # built in function that checks passed argument of x is an instance of float type\n",
    "        elif isinstance(x, int):\n",
    "            return True\n",
    "        # return false for any other variable type\n",
    "        else:\n",
    "            return False\n",
    "        \n",
    "    # another magic method __repr__\n",
    "    # with __class__.__name__\n",
    "    def __repr__(self):\n",
    "        return f'{__class__.__name__}(\"{self.name}\", {self.fees}, {self.sem})'\n",
    "    \n",
    "    # a read only usage for variables being returned\n",
    "#     @property\n",
    "#     def readOnlyAttribute(self):\n",
    "#         return\"Best College\""
   ]
  },
  {
   "cell_type": "code",
   "execution_count": 75,
   "metadata": {
    "execution": {
     "iopub.execute_input": "2024-03-30T05:45:26.865313Z",
     "iopub.status.busy": "2024-03-30T05:45:26.864659Z",
     "iopub.status.idle": "2024-03-30T05:45:26.872002Z",
     "shell.execute_reply": "2024-03-30T05:45:26.870805Z",
     "shell.execute_reply.started": "2024-03-30T05:45:26.865281Z"
    },
    "trusted": true
   },
   "outputs": [
    {
     "name": "stdout",
     "output_type": "stream",
     "text": [
      "Attribute PDPU created\n",
      "Attribute 124000 created\n",
      "Attribute 8 created\n",
      "PDEU\n"
     ]
    }
   ],
   "source": [
    "my_college = college(\"PDPU\" , 124000, 8)\n",
    "my_college.name = \"PDEU\"\n",
    "print(my_college.name)"
   ]
  },
  {
   "cell_type": "code",
   "execution_count": 76,
   "metadata": {
    "execution": {
     "iopub.execute_input": "2024-03-30T05:45:29.327035Z",
     "iopub.status.busy": "2024-03-30T05:45:29.326360Z",
     "iopub.status.idle": "2024-03-30T05:45:29.374550Z",
     "shell.execute_reply": "2024-03-30T05:45:29.373164Z",
     "shell.execute_reply.started": "2024-03-30T05:45:29.326997Z"
    },
    "trusted": true
   },
   "outputs": [
    {
     "name": "stdout",
     "output_type": "stream",
     "text": [
      "Attribute PDPU created\n",
      "Attribute 124000 created\n",
      "Attribute 8 created\n"
     ]
    },
    {
     "ename": "Exception",
     "evalue": "Shorten the name",
     "output_type": "error",
     "traceback": [
      "\u001b[1;31m---------------------------------------------------------------------------\u001b[0m",
      "\u001b[1;31mException\u001b[0m                                 Traceback (most recent call last)",
      "Cell \u001b[1;32mIn[76], line 2\u001b[0m\n\u001b[0;32m      1\u001b[0m my_college \u001b[38;5;241m=\u001b[39m college(\u001b[38;5;124m\"\u001b[39m\u001b[38;5;124mPDPU\u001b[39m\u001b[38;5;124m\"\u001b[39m , \u001b[38;5;241m124000\u001b[39m, \u001b[38;5;241m8\u001b[39m)\n\u001b[1;32m----> 2\u001b[0m \u001b[43mmy_college\u001b[49m\u001b[38;5;241;43m.\u001b[39;49m\u001b[43mname\u001b[49m \u001b[38;5;241m=\u001b[39m \u001b[38;5;124m\"\u001b[39m\u001b[38;5;124mPDEU is situatied in gandhinagar\u001b[39m\u001b[38;5;124m\"\u001b[39m\n\u001b[0;32m      3\u001b[0m \u001b[38;5;28mprint\u001b[39m(my_college\u001b[38;5;241m.\u001b[39mname)\n",
      "Cell \u001b[1;32mIn[74], line 46\u001b[0m, in \u001b[0;36mcollege.name\u001b[1;34m(self, value)\u001b[0m\n\u001b[0;32m     43\u001b[0m \u001b[38;5;129m@name\u001b[39m\u001b[38;5;241m.\u001b[39msetter\n\u001b[0;32m     44\u001b[0m \u001b[38;5;28;01mdef\u001b[39;00m \u001b[38;5;21mname\u001b[39m(\u001b[38;5;28mself\u001b[39m,value):\n\u001b[0;32m     45\u001b[0m     \u001b[38;5;28;01mif\u001b[39;00m \u001b[38;5;28mlen\u001b[39m(value) \u001b[38;5;241m>\u001b[39m \u001b[38;5;241m10\u001b[39m:\n\u001b[1;32m---> 46\u001b[0m         \u001b[38;5;28;01mraise\u001b[39;00m \u001b[38;5;167;01mException\u001b[39;00m(\u001b[38;5;124m\"\u001b[39m\u001b[38;5;124mShorten the name\u001b[39m\u001b[38;5;124m\"\u001b[39m)\n\u001b[0;32m     47\u001b[0m     \u001b[38;5;28;01melse\u001b[39;00m:\n\u001b[0;32m     48\u001b[0m         \u001b[38;5;28mself\u001b[39m\u001b[38;5;241m.\u001b[39m__name \u001b[38;5;241m=\u001b[39m value\n",
      "\u001b[1;31mException\u001b[0m: Shorten the name"
     ]
    }
   ],
   "source": [
    "my_college = college(\"PDPU\" , 124000, 8)\n",
    "my_college.name = \"PDEU is situatied in gandhinagar\"\n",
    "print(my_college.name)"
   ]
  },
  {
   "cell_type": "markdown",
   "metadata": {},
   "source": [
    "# Polymorphism\n",
    "Use of single type entity to represent multiple others "
   ]
  },
  {
   "cell_type": "code",
   "execution_count": 77,
   "metadata": {
    "execution": {
     "iopub.execute_input": "2024-03-30T06:02:02.752829Z",
     "iopub.status.busy": "2024-03-30T06:02:02.752447Z",
     "iopub.status.idle": "2024-03-30T06:02:02.758949Z",
     "shell.execute_reply": "2024-03-30T06:02:02.758087Z",
     "shell.execute_reply.started": "2024-03-30T06:02:02.752799Z"
    },
    "trusted": true
   },
   "outputs": [
    {
     "name": "stdout",
     "output_type": "stream",
     "text": [
      "6\n",
      "1\n",
      "1\n"
     ]
    }
   ],
   "source": [
    "my_string = 'Pathik'\n",
    "my_list = ['Pathik']\n",
    "my_dict = {'name': 'Pathik'}\n",
    "\n",
    "print(len(my_string))\n",
    "print(len(my_list))\n",
    "print(len(my_dict))"
   ]
  },
  {
   "cell_type": "markdown",
   "metadata": {},
   "source": [
    "# Abstraction"
   ]
  },
  {
   "cell_type": "markdown",
   "metadata": {},
   "source": [
    "Only show necessary stuff and hide the irrelevant stuff"
   ]
  },
  {
   "cell_type": "code",
   "execution_count": 78,
   "metadata": {
    "execution": {
     "iopub.execute_input": "2024-03-30T06:22:41.108328Z",
     "iopub.status.busy": "2024-03-30T06:22:41.107932Z",
     "iopub.status.idle": "2024-03-30T06:22:41.123918Z",
     "shell.execute_reply": "2024-03-30T06:22:41.122931Z",
     "shell.execute_reply.started": "2024-03-30T06:22:41.108299Z"
    },
    "trusted": true
   },
   "outputs": [],
   "source": [
    "import csv # library that will read csv\n",
    "\n",
    "# the above thing was time consuming and a lot hard code oriented. Lets make that easy\n",
    "# Redefine college class\n",
    "class college:\n",
    "    \n",
    "    # Define class attributes\n",
    "    location = \"India\"\n",
    "    \n",
    "    # special attribute all\n",
    "    all = []\n",
    "    \n",
    "    # Create our magic method\n",
    "    def __init__(self, name: str, fees: float, sem: int):\n",
    "        \n",
    "        # Run validations\n",
    "        assert fees >= 0, f'expected non-negative, recieved {fees}'\n",
    "        assert sem >= 0, f'expected non-negative, recieved {sem}'\n",
    "        \n",
    "        # Assign to self object\n",
    "        # my_college.name = 'PDEU'\n",
    "        # if i had done without the _ in nmae, my own property function would restrict me to execute below line\n",
    "        # by using _ we differentiate the two things and still have the same instance\n",
    "        self.__name = name\n",
    "        print(f'Attribute {name} created')\n",
    "        \n",
    "        # my_college.fees = 124000\n",
    "        self.fees = fees\n",
    "        print(f'Attribute {fees} created')\n",
    "        \n",
    "        # my_college.sem = 8\n",
    "        self.sem = sem\n",
    "        print(f'Attribute {sem} created')\n",
    "    \n",
    "        # store all instances\n",
    "        college.all.append(self)\n",
    "    \n",
    "    # convert the name attribute into read only\n",
    "    @property\n",
    "    def name(self):\n",
    "        return self.__name\n",
    "    \n",
    "    @name.setter\n",
    "    def name(self,value):\n",
    "        if len(value) > 10:\n",
    "            raise Exception(\"Shorten the name\")\n",
    "        else:\n",
    "            self.__name = value\n",
    "            \n",
    "    # and here come inheritance into play! I can call this method of college class without mentioning college class through one of his children\n",
    "    def calculateTotalFees(self, scholarship):\n",
    "        temp = (self.fees*self.sem)-scholarship\n",
    "        return temp\n",
    "    \n",
    "    # class method\n",
    "    @classmethod\n",
    "    def readCSV(cls):\n",
    "        # Change the path to your file\n",
    "        with open('/kaggle/input/dummy-data/data.csv', 'r') as file:\n",
    "            reader = csv.DictReader(file)\n",
    "            my_list = list(reader)\n",
    "            \n",
    "        for element in my_list:\n",
    "            college(\n",
    "                name=element.get('name'),\n",
    "                fees=float(element.get('fees')),\n",
    "                sem=int(element.get('sem'))\n",
    "            )\n",
    "    \n",
    "    # define static method\n",
    "    @staticmethod\n",
    "    # static do not need any instance or class as argument\n",
    "    def is_integer(x):\n",
    "        # built in function that checks passed argument of x is an instance of float type\n",
    "        if isinstance(x, float):\n",
    "            # call the function again that checks passed argument of x is an integer\n",
    "            return x.is_integer()\n",
    "        # built in function that checks passed argument of x is an instance of float type\n",
    "        elif isinstance(x, int):\n",
    "            return True\n",
    "        # return false for any other variable type\n",
    "        else:\n",
    "            return False\n",
    "        \n",
    "    # another magic method __repr__\n",
    "    # with __class__.__name__\n",
    "    def __repr__(self):\n",
    "        return f'{__class__.__name__}(\"{self.name}\", {self.fees}, {self.sem})'\n",
    "    \n",
    "    def __getRecords(self, subject_code):\n",
    "        print(f'Obtained records for {subject_code}')\n",
    "    \n",
    "    def __searchRecords(self):\n",
    "        print(f'Searching Records for Papers')\n",
    "    \n",
    "    def findPastPapers(self):\n",
    "        self.__getRecords('18CP218')\n",
    "        self.__searchRecords()"
   ]
  },
  {
   "cell_type": "code",
   "execution_count": 79,
   "metadata": {
    "execution": {
     "iopub.execute_input": "2024-03-30T06:22:42.793485Z",
     "iopub.status.busy": "2024-03-30T06:22:42.793121Z",
     "iopub.status.idle": "2024-03-30T06:22:42.799626Z",
     "shell.execute_reply": "2024-03-30T06:22:42.798526Z",
     "shell.execute_reply.started": "2024-03-30T06:22:42.793456Z"
    },
    "trusted": true
   },
   "outputs": [
    {
     "name": "stdout",
     "output_type": "stream",
     "text": [
      "Attribute PDPU created\n",
      "Attribute 124000 created\n",
      "Attribute 8 created\n",
      "Obtained records for 18CP218\n",
      "Searching Records for Papers\n"
     ]
    }
   ],
   "source": [
    "my_college = college(\"PDPU\" , 124000, 8)\n",
    "\n",
    "my_college.findPastPapers()"
   ]
  },
  {
   "cell_type": "markdown",
   "metadata": {},
   "source": [
    "# Practical Rundown of OOPs in ML"
   ]
  },
  {
   "cell_type": "code",
   "execution_count": 80,
   "metadata": {},
   "outputs": [
    {
     "data": {
      "text/plain": [
       "array([16.])"
      ]
     },
     "execution_count": 80,
     "metadata": {},
     "output_type": "execute_result"
    }
   ],
   "source": [
    "import numpy as np\n",
    "from sklearn.linear_model import LinearRegression\n",
    "\n",
    "X = np.array([[1, 1], [1, 2], [2, 2], [2, 3]])\n",
    "\n",
    "# y = 1 * x_0 + 2 * x_1 + 3\n",
    "y = np.dot(X, np.array([1, 2])) + 3\n",
    "\n",
    "reg = LinearRegression().fit(X, y)\n",
    "\n",
    "reg.score(X, y)\n",
    "\n",
    "reg.coef_\n",
    "\n",
    "reg.intercept_\n",
    "\n",
    "reg.predict(np.array([[3, 5]]))"
   ]
  }
 ],
 "metadata": {
  "kaggle": {
   "accelerator": "none",
   "dataSources": [
    {
     "datasetId": 4691202,
     "sourceId": 7972335,
     "sourceType": "datasetVersion"
    }
   ],
   "dockerImageVersionId": 30673,
   "isGpuEnabled": false,
   "isInternetEnabled": true,
   "language": "python",
   "sourceType": "notebook"
  },
  "kernelspec": {
   "display_name": "Python 3",
   "language": "python",
   "name": "python3"
  },
  "language_info": {
   "codemirror_mode": {
    "name": "ipython",
    "version": 3
   },
   "file_extension": ".py",
   "mimetype": "text/x-python",
   "name": "python",
   "nbconvert_exporter": "python",
   "pygments_lexer": "ipython3",
   "version": "3.11.9"
  }
 },
 "nbformat": 4,
 "nbformat_minor": 4
}
